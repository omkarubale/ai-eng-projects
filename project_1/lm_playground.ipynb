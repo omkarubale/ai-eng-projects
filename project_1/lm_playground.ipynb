{
  "cells": [
    {
      "cell_type": "markdown",
      "id": "fe523821",
      "metadata": {
        "id": "fe523821"
      },
      "source": [
        "\n",
        "# Project 1: Build an LLM Playground\n",
        "\n",
        "Welcome! In this project, you’ll learn foundations of large language models (LLMs). We’ll keep the code minimal and the explanations high‑level so that anyone who can run a Python cell can follow along.  \n",
        "\n",
        "We'll be using Google Colab for this project. Colab is a free, browser-based platform that lets you run Python code and machine learning models without installing anything on your local computer. Click the button below to open this notebook directly in Google Colab and get started!\n"
      ]
    },
    {
      "cell_type": "markdown",
      "id": "fdb8584e",
      "metadata": {
        "id": "fdb8584e"
      },
      "source": [
        "[![Open In Colab](https://colab.research.google.com/assets/colab-badge.svg)](https://colab.research.google.com/github/bytebyteai/ai-eng-projects/blob/main/project_1/lm_playground.ipynb)"
      ]
    },
    {
      "cell_type": "markdown",
      "id": "08e82492",
      "metadata": {
        "id": "08e82492"
      },
      "source": [
        "---\n",
        "## Learning Objectives  \n",
        "* **Tokenization** and how raw text is tokenized into a sequene of discrete tokens\n",
        "* Inspect **GPT2** and **Transformer architecture**\n",
        "* Loading pre-trained LLMs using **Hugging Face**\n",
        "* **Decoding strategies** to generate text from LLMs\n",
        "* Completion versus **intrusction fine-tuned** LLMs\n",
        "\n",
        "\n",
        "Let's get started!"
      ]
    },
    {
      "cell_type": "code",
      "execution_count": null,
      "id": "1235110e",
      "metadata": {
        "colab": {
          "base_uri": "https://localhost:8080/"
        },
        "executionInfo": {
          "elapsed": 10183,
          "status": "ok",
          "timestamp": 1760044695161,
          "user": {
            "displayName": "Omkar Ubale",
            "userId": "07008084184003779859"
          },
          "user_tz": 240
        },
        "id": "1235110e",
        "outputId": "c08445ea-d0e1-4b31-ebab-64fd612aae7e"
      },
      "outputs": [
        {
          "name": "stdout",
          "output_type": "stream",
          "text": [
            "torch 2.8.0+cu126 | transformers 4.56.2\n"
          ]
        }
      ],
      "source": [
        "import torch, transformers, tiktoken\n",
        "print(\"torch\", torch.__version__, \"| transformers\", transformers.__version__)"
      ]
    },
    {
      "cell_type": "markdown",
      "id": "d4c1eb0b",
      "metadata": {
        "id": "d4c1eb0b"
      },
      "source": [
        "# 1 - Tokenization\n",
        "\n",
        "A neural network can’t digest raw text. They need **numbers**. Tokenization is the process of converting text into IDs. In this section, you'll learn how tokenization is implemented in practice.\n",
        "\n",
        "Tokenization methods generally fall into three categories:\n",
        "1. Word-level\n",
        "2. Character-level\n",
        "3. Subword-level"
      ]
    },
    {
      "cell_type": "markdown",
      "id": "1d234dc0",
      "metadata": {
        "id": "1d234dc0"
      },
      "source": [
        "### 1.1 - Word‑level tokenization\n",
        "\n",
        "Split text on whitespace and store each **word** as a token."
      ]
    },
    {
      "cell_type": "code",
      "execution_count": null,
      "id": "d784a288",
      "metadata": {
        "colab": {
          "base_uri": "https://localhost:8080/"
        },
        "executionInfo": {
          "elapsed": 19,
          "status": "ok",
          "timestamp": 1760045789818,
          "user": {
            "displayName": "Omkar Ubale",
            "userId": "07008084184003779859"
          },
          "user_tz": 240
        },
        "id": "d784a288",
        "outputId": "d7d3e2f4-88bb-4c73-d152-6181dd324256"
      },
      "outputs": [
        {
          "name": "stdout",
          "output_type": "stream",
          "text": [
            "Vocabulary size: 21 words\n",
            "First 15 vocab entries: ['The', 'quick', 'brown', 'fox', 'jumps', 'over', 'the', 'lazy', 'dog', 'Tokenization', 'converts', 'text', 'to', 'numbers', 'Large']\n",
            "\n",
            "Input text : The brown unicorn jumps\n",
            "Token IDs  : [0, 2, -2, 4]\n",
            "Decoded    : ['The', 'brown', '[UNK]', 'jumps']\n"
          ]
        }
      ],
      "source": [
        "# 1. Tiny corpus\n",
        "corpus = [\n",
        "    \"The quick brown fox jumps over the lazy dog\",\n",
        "    \"Tokenization converts text to numbers\",\n",
        "    \"Large language models predict the next token\"\n",
        "]\n",
        "\n",
        "# 2. Build the vocabulary\n",
        "PAD, UNK = \"[PAD]\", \"[UNK]\"\n",
        "PAD_ID = -1\n",
        "UNK_ID = -2\n",
        "\n",
        "vocab = []\n",
        "word2id = {}\n",
        "id2word = {}\n",
        "\n",
        "vocab = [word for sentence in corpus for word in sentence.split(\" \")]\n",
        "\n",
        "id_iterator = 0\n",
        "for word in vocab:\n",
        "  if word in word2id:\n",
        "    continue\n",
        "\n",
        "  word2id[word] = id_iterator\n",
        "  id2word[id_iterator] = word\n",
        "\n",
        "  id_iterator += 1\n",
        "\n",
        "print(f\"Vocabulary size: {len(vocab)} words\")\n",
        "print(\"First 15 vocab entries:\", vocab[:15])\n",
        "\n",
        "# 3. Encode / decode\n",
        "def encode_word(word: str):\n",
        "  if word in word2id:\n",
        "    return word2id[word]\n",
        "\n",
        "  if word == \" \":\n",
        "    return PAD_ID\n",
        "\n",
        "  return UNK_ID\n",
        "\n",
        "def decode_id(id: int):\n",
        "  if id in id2word:\n",
        "    return id2word[id]\n",
        "\n",
        "  if id == PAD_ID:\n",
        "    return PAD\n",
        "\n",
        "  return UNK\n",
        "\n",
        "def encode(text: str):\n",
        "    result = []\n",
        "    for word in text.split(\" \"):\n",
        "      result.append(encode_word(word))\n",
        "    return result\n",
        "\n",
        "def decode(ids: list[int]):\n",
        "    result = []\n",
        "    for id in ids:\n",
        "      result.append(decode_id(id))\n",
        "    return result\n",
        "\n",
        "# 4. Demo\n",
        "sample = \"The brown unicorn jumps\"\n",
        "ids = encode(sample)\n",
        "recovered = decode(ids)\n",
        "\n",
        "print(\"\\nInput text :\", sample)\n",
        "print(\"Token IDs  :\", ids)\n",
        "print(\"Decoded    :\", recovered)"
      ]
    },
    {
      "cell_type": "markdown",
      "id": "0edab2c2",
      "metadata": {
        "id": "0edab2c2"
      },
      "source": [
        "Word-level tokenization has two major limitations:\n",
        "1. Large vocabulary size\n",
        "2. Out-of-vocabulary (OOV) issue"
      ]
    },
    {
      "cell_type": "markdown",
      "id": "a379bac7",
      "metadata": {
        "id": "a379bac7"
      },
      "source": [
        "### 1.2 - Character‑level tokenization\n",
        "\n",
        "Every single character (including spaces and emojis) gets its own ID. This guarantees zero out‑of‑vocabulary issues but very long sequences."
      ]
    },
    {
      "cell_type": "code",
      "execution_count": null,
      "id": "4ac29144",
      "metadata": {
        "colab": {
          "base_uri": "https://localhost:8080/"
        },
        "executionInfo": {
          "elapsed": 10,
          "status": "ok",
          "timestamp": 1760046621123,
          "user": {
            "displayName": "Omkar Ubale",
            "userId": "07008084184003779859"
          },
          "user_tz": 240
        },
        "id": "4ac29144",
        "outputId": "c4547e58-9c1a-4185-9e1a-9fd814533064"
      },
      "outputs": [
        {
          "name": "stdout",
          "output_type": "stream",
          "text": [
            "Vocabulary size: 54 (52 letters + 2 specials)\n",
            "char2id: {'a': 0, 'A': 26, 'b': 1, 'B': 27, 'c': 2, 'C': 28, 'd': 3, 'D': 29, 'e': 4, 'E': 30, 'f': 5, 'F': 31, 'g': 6, 'G': 32, 'h': 7, 'H': 33, 'i': 8, 'I': 34, 'j': 9, 'J': 35, 'k': 10, 'K': 36, 'l': 11, 'L': 37, 'm': 12, 'M': 38, 'n': 13, 'N': 39, 'o': 14, 'O': 40, 'p': 15, 'P': 41, 'q': 16, 'Q': 42, 'r': 17, 'R': 43, 's': 18, 'S': 44, 't': 19, 'T': 45, 'u': 20, 'U': 46, 'v': 21, 'V': 47, 'w': 22, 'W': 48, 'x': 23, 'X': 49, 'y': 24, 'Y': 50, 'z': 25, 'Z': 51, '[UNK]': 52, '[PAD]': 53}\n",
            "id2char: {0: 'a', 26: 'A', 1: 'b', 27: 'B', 2: 'c', 28: 'C', 3: 'd', 29: 'D', 4: 'e', 30: 'E', 5: 'f', 31: 'F', 6: 'g', 32: 'G', 7: 'h', 33: 'H', 8: 'i', 34: 'I', 9: 'j', 35: 'J', 10: 'k', 36: 'K', 11: 'l', 37: 'L', 12: 'm', 38: 'M', 13: 'n', 39: 'N', 14: 'o', 40: 'O', 15: 'p', 41: 'P', 16: 'q', 42: 'Q', 17: 'r', 43: 'R', 18: 's', 44: 'S', 19: 't', 45: 'T', 20: 'u', 46: 'U', 21: 'v', 47: 'V', 22: 'w', 48: 'W', 23: 'x', 49: 'X', 24: 'y', 50: 'Y', 25: 'z', 51: 'Z', 52: '[UNK]', 53: '[PAD]'}\n",
            "\n",
            "Input text : Hello\n",
            "Token IDs  : [33, 4, 11, 11, 14]\n",
            "Decoded    : ['H', 'e', 'l', 'l', 'o']\n"
          ]
        }
      ],
      "source": [
        "# 1. Build a fixed vocabulary # a–z + A–Z + padding + unkwown\n",
        "import string\n",
        "\n",
        "vocab = []\n",
        "char2id = {}\n",
        "id2char = {}\n",
        "\n",
        "PAD, UNK = \"[PAD]\", \"[UNK]\"\n",
        "\n",
        "for i in range(26):\n",
        "  lower_case_c = chr(ord('a') + i)\n",
        "  vocab.append(lower_case_c)\n",
        "  char2id[lower_case_c] = i\n",
        "  id2char[i] = lower_case_c\n",
        "\n",
        "  upper_case_c = chr(ord('A') + i)\n",
        "  vocab.append(upper_case_c)\n",
        "  char2id[upper_case_c] = 26 + i\n",
        "  id2char[26 + i] = upper_case_c\n",
        "\n",
        "UNK_ID = 52\n",
        "vocab.append(UNK)\n",
        "char2id[UNK] = UNK_ID\n",
        "id2char[UNK_ID] = UNK\n",
        "\n",
        "PAD_ID = 53\n",
        "vocab.append(PAD)\n",
        "char2id[PAD] = PAD_ID\n",
        "id2char[PAD_ID] = PAD\n",
        "\n",
        "print(f\"Vocabulary size: {len(vocab)} (52 letters + 2 specials)\")\n",
        "print(f\"char2id: {char2id}\")\n",
        "print(f\"id2char: {id2char}\")\n",
        "\n",
        "# 2. Encode / decode\n",
        "def encode_char(char: str):\n",
        "  if char in char2id:\n",
        "    return char2id[char]\n",
        "\n",
        "  if char == \" \":\n",
        "    return PAD_ID\n",
        "\n",
        "  return UNK_ID\n",
        "\n",
        "def decode_id(id: int):\n",
        "  if id in id2char:\n",
        "    return id2char[id]\n",
        "\n",
        "  if id == PAD_ID:\n",
        "    return PAD\n",
        "\n",
        "  return UNK\n",
        "\n",
        "def encode(text: str):\n",
        "    result = []\n",
        "    for char in list(text):\n",
        "      result.append(encode_char(char))\n",
        "    return result\n",
        "\n",
        "def decode(ids: list[int]):\n",
        "    result = []\n",
        "    for id in ids:\n",
        "      result.append(decode_id(id))\n",
        "    return result\n",
        "\n",
        "# 3. Demo\n",
        "sample = \"Hello\"\n",
        "ids = encode(sample)\n",
        "recovered = decode(ids)\n",
        "\n",
        "print(\"\\nInput text :\", sample)\n",
        "print(\"Token IDs  :\", ids)\n",
        "print(\"Decoded    :\", recovered)\n"
      ]
    },
    {
      "cell_type": "markdown",
      "id": "391275bd",
      "metadata": {
        "id": "391275bd"
      },
      "source": [
        "### 1.3 - Subword‑level tokenization\n",
        "\n",
        "Sub-word methods such as `Byte-Pair Encoding (BPE)`, `WordPiece`, and `SentencePiece` **learn** the most common character and group them into new tokens. For example, the word `unbelievable` might turn into three tokens: `[\"un\", \"believ\", \"able\"]`. This approach strikes a balance between word-level and character-level methods and fix their limitations.\n",
        "\n",
        "For example, `BPE` algorithm forms the vocabulary using the following steps:\n",
        "1. **Start with bytes** → every character is its own token.  \n",
        "2. **Count all adjacent pairs** in a huge corpus.  \n",
        "3. **Merge the most frequent pair** into a new token.  \n",
        "   *Repeat steps 2-3* until you hit the target vocab size (e.g., 50 k).\n",
        "\n",
        "Let's see `BPE` in practice."
      ]
    },
    {
      "cell_type": "code",
      "execution_count": null,
      "id": "4675e67a",
      "metadata": {
        "colab": {
          "base_uri": "https://localhost:8080/"
        },
        "executionInfo": {
          "elapsed": 324,
          "status": "ok",
          "timestamp": 1760117178252,
          "user": {
            "displayName": "Omkar Ubale",
            "userId": "07008084184003779859"
          },
          "user_tz": 240
        },
        "id": "4675e67a",
        "outputId": "4807cf10-d066-4261-bf7b-6c896d116f21"
      },
      "outputs": [
        {
          "name": "stdout",
          "output_type": "stream",
          "text": [
            "\n",
            "Input text : Unbelievable tokenization powers! 🚀\n",
            "Token IDs  : [3118, 6667, 11203, 540, 11241, 1634, 5635, 0, 12520, 248, 222]\n",
            "Tokens     : ['Un', 'bel', 'iev', 'able', 'Ġtoken', 'ization', 'Ġpowers', '!', 'ĠðŁ', 'ļ', 'Ģ']\n",
            "Decoded    : Unbelievable tokenization powers! 🚀\n"
          ]
        }
      ],
      "source": [
        "# 1. Load a pretrained BPE tokenizer (GPT-2 uses BPE).\n",
        "# Refer to  https://huggingface.co/docs/transformers/en/fast_tokenizers\n",
        "\n",
        "from transformers import AutoTokenizer\n",
        "from tokenizers import Tokenizer\n",
        "from tokenizers.models import BPE\n",
        "\n",
        "bpe_tok = AutoTokenizer.from_pretrained(\"openai-community/gpt2\")\n",
        "\n",
        "# 2. Encode / decode\n",
        "def encode(text):\n",
        "    tokens = bpe_tok.tokenize(text)\n",
        "    return bpe_tok.convert_tokens_to_ids(tokens)\n",
        "\n",
        "\n",
        "def decode(ids):\n",
        "    return bpe_tok.decode(ids)\n",
        "\n",
        "# 3. Demo\n",
        "sample = \"Unbelievable tokenization powers! 🚀\"\n",
        "ids = encode(sample)\n",
        "recovered = decode(ids)\n",
        "\n",
        "print(\"\\nInput text :\", sample)\n",
        "print(\"Token IDs  :\", ids)\n",
        "print(\"Tokens     :\", bpe_tok.convert_ids_to_tokens(ids))\n",
        "print(\"Decoded    :\", recovered)\n"
      ]
    },
    {
      "cell_type": "markdown",
      "id": "badaa5a8",
      "metadata": {
        "id": "badaa5a8"
      },
      "source": [
        "### 1.4 - TikToken\n",
        "\n",
        "`tiktoken` is a production-ready library which offers high‑speed tokenization used by OpenAI models.  \n",
        "Let's compare the older **gpt2** encoding with the newer **cl100k_base** used in GPT‑4."
      ]
    },
    {
      "cell_type": "code",
      "execution_count": null,
      "id": "7704c470",
      "metadata": {
        "colab": {
          "base_uri": "https://localhost:8080/"
        },
        "executionInfo": {
          "elapsed": 1222,
          "status": "ok",
          "timestamp": 1760117321317,
          "user": {
            "displayName": "Omkar Ubale",
            "userId": "07008084184003779859"
          },
          "user_tz": 240
        },
        "id": "7704c470",
        "outputId": "f5e2cd59-6b7b-45ca-a0ce-c58795bbd74c"
      },
      "outputs": [
        {
          "name": "stdout",
          "output_type": "stream",
          "text": [
            "\n",
            "Input text : The 🌟 star-player scored 40 points!\n",
            "Token IDs  : [976, 130321, 253, 8253, 92135, 27207, 220, 1723, 5571, 0]\n",
            "Decoded    : The 🌟 star-player scored 40 points!\n"
          ]
        }
      ],
      "source": [
        "# Use gpt2 and cl100k_base to encode and decode the following text\n",
        "# Refer to https://github.com/openai/tiktoken\n",
        "import tiktoken\n",
        "\n",
        "sentence = \"The 🌟 star-player scored 40 points!\"\n",
        "\n",
        "encoding = enc = tiktoken.get_encoding(\"o200k_base\")\n",
        "encoded = encoding.encode(sentence)\n",
        "decoded = encoding.decode(encoded)\n",
        "\n",
        "print(\"\\nInput text :\", sentence)\n",
        "print(\"Token IDs  :\", encoded)\n",
        "print(\"Decoded    :\", decoded)"
      ]
    },
    {
      "cell_type": "markdown",
      "id": "5e8c1023",
      "metadata": {
        "id": "5e8c1023"
      },
      "source": [
        "Experiment: try new sentences, emojis, code snippets, or other languages. If you are interested, try implementing the BPE algorithm yourself.\n",
        "\n",
        "### 1.5 - Key Takeaways\n",
        "\n",
        "* **Word‑level**: simple but brittle (OOV problems).  \n",
        "* **Character‑level**: robust but produces long sequences.  \n",
        "* **BPE / Byte‑Level BPE**: middle ground used by most LLMs.  \n",
        "* **tiktoken**: shows how production models tokenize with pre‑trained sub‑word vocabularies."
      ]
    },
    {
      "cell_type": "markdown",
      "id": "c2a758ba",
      "metadata": {
        "id": "c2a758ba"
      },
      "source": [
        "# 2. What is a Language Model?\n",
        "\n",
        "At its core, a **language model (LM)** is just a *very large* mathematical function built from many neural-network layers.  \n",
        "Given a sequence of tokens `[t₁, t₂, …, tₙ]`, it learns to output a probability for the next token `tₙ₊₁`.\n",
        "\n",
        "\n",
        "Each layer applies a simple operation (matrix multiplication, attention, etc.). Stacking hundreds of these layers lets the model capture patterns and statistical relations from text. The final output is a vector of scores that says, “how likely is each possible token to come next?”\n",
        "\n",
        "> Think of the whole network as **one gigantic equation** whose parameters were tuned during training to minimize prediction error.\n"
      ]
    },
    {
      "cell_type": "markdown",
      "id": "8f0c7399",
      "metadata": {
        "id": "8f0c7399"
      },
      "source": [
        "\n",
        "### 2.1 - A Single `Linear` Layer\n",
        "\n",
        "Before we explore Transformer, let’s start tiny:\n",
        "\n",
        "* A **Linear layer** performs `y = Wx + b`  \n",
        "  * `x` – input vector  \n",
        "  * `W` – weight matrix (learned)  \n",
        "  * `b` – bias vector (learned)\n",
        "\n",
        "Although this looks basic, chaining thousands of such linear transforms (with nonlinearities in between) gives neural nets their expressive power.\n"
      ]
    },
    {
      "cell_type": "code",
      "execution_count": null,
      "id": "e425948a",
      "metadata": {
        "id": "e425948a"
      },
      "outputs": [],
      "source": [
        "import torch.nn as nn\n",
        "class Linear(nn.Module):\n",
        "    def __init__(self, in_features, out_features):\n",
        "        super(Linear, self).__init__()\n",
        "        # init wieghts and biases\n",
        "        self.wieght = nn.Parameter(torch.randn(out_features, in_features) * 0.01)\n",
        "        self.bias = nn.Parameter(torch.zeros(out_features))\n",
        "\n",
        "    def forward(self, x):\n",
        "        return x @ self.wieght.T + self.bias"
      ]
    },
    {
      "cell_type": "code",
      "execution_count": null,
      "id": "13e5e225",
      "metadata": {
        "colab": {
          "base_uri": "https://localhost:8080/"
        },
        "executionInfo": {
          "elapsed": 186,
          "status": "ok",
          "timestamp": 1760150954301,
          "user": {
            "displayName": "Omkar Ubale",
            "userId": "07008084184003779859"
          },
          "user_tz": 240
        },
        "id": "13e5e225",
        "outputId": "ec4d2ac6-0f06-4d7f-c6e9-21e61b1ca756"
      },
      "outputs": [
        {
          "name": "stdout",
          "output_type": "stream",
          "text": [
            "Input : tensor([ 1.0000, -1.0000,  0.5000])\n",
            "Weights: Parameter containing:\n",
            "tensor([[-0.4236, -0.5265, -0.5709],\n",
            "        [ 0.2812, -0.2966,  0.4482]], requires_grad=True)\n",
            "Bias   : Parameter containing:\n",
            "tensor([-0.3767, -0.2979], requires_grad=True)\n",
            "Output : tensor([-0.5592,  0.5041], grad_fn=<ViewBackward0>)\n"
          ]
        }
      ],
      "source": [
        "import torch.nn as nn, torch\n",
        "\n",
        "lin = nn.Linear(3, 2)\n",
        "x = torch.tensor([1.0, -1.0, 0.5])\n",
        "print(\"Input :\", x)\n",
        "print(\"Weights:\", lin.weight)\n",
        "print(\"Bias   :\", lin.bias)\n",
        "print(\"Output :\", lin(x))\n"
      ]
    },
    {
      "cell_type": "markdown",
      "id": "a04f56bf",
      "metadata": {
        "id": "a04f56bf"
      },
      "source": [
        "### 2.2 - A `Transformer` Layer\n",
        "\n",
        "Most LLMs are a **stack of identical Transformer blocks**. Each block fuses two main components:\n",
        "\n",
        "| Step | What it does | Where it lives in code |\n",
        "|------|--------------|------------------------|\n",
        "| **Multi-Head Self-Attention** | Every token looks at every other token and decides *what matters*. | `block.attn` |\n",
        "| **Feed-Forward Network (MLP)** | Re-mixes information token-by-token. | `block.mlp` |\n",
        "\n",
        "Below, we load the smallest public GPT-2 (124 M parameters), grab its *first* block, and inspect the pieces.\n"
      ]
    },
    {
      "cell_type": "code",
      "execution_count": null,
      "id": "47c87f6e",
      "metadata": {
        "colab": {
          "base_uri": "https://localhost:8080/"
        },
        "executionInfo": {
          "elapsed": 647,
          "status": "ok",
          "timestamp": 1760151484219,
          "user": {
            "displayName": "Omkar Ubale",
            "userId": "07008084184003779859"
          },
          "user_tz": 240
        },
        "id": "47c87f6e",
        "outputId": "b69767fa-57a5-4685-f031-e24358f4621a"
      },
      "outputs": [
        {
          "name": "stdout",
          "output_type": "stream",
          "text": [
            "model.transformer : GPT2Model(\n",
            "  (wte): Embedding(50257, 768)\n",
            "  (wpe): Embedding(1024, 768)\n",
            "  (drop): Dropout(p=0.1, inplace=False)\n",
            "  (h): ModuleList(\n",
            "    (0-11): 12 x GPT2Block(\n",
            "      (ln_1): LayerNorm((768,), eps=1e-05, elementwise_affine=True)\n",
            "      (attn): GPT2Attention(\n",
            "        (c_attn): Conv1D(nf=2304, nx=768)\n",
            "        (c_proj): Conv1D(nf=768, nx=768)\n",
            "        (attn_dropout): Dropout(p=0.1, inplace=False)\n",
            "        (resid_dropout): Dropout(p=0.1, inplace=False)\n",
            "      )\n",
            "      (ln_2): LayerNorm((768,), eps=1e-05, elementwise_affine=True)\n",
            "      (mlp): GPT2MLP(\n",
            "        (c_fc): Conv1D(nf=3072, nx=768)\n",
            "        (c_proj): Conv1D(nf=768, nx=3072)\n",
            "        (act): NewGELUActivation()\n",
            "        (dropout): Dropout(p=0.1, inplace=False)\n",
            "      )\n",
            "    )\n",
            "  )\n",
            "  (ln_f): LayerNorm((768,), eps=1e-05, elementwise_affine=True)\n",
            ")\n",
            "model.transformer.h : ModuleList(\n",
            "  (0-11): 12 x GPT2Block(\n",
            "    (ln_1): LayerNorm((768,), eps=1e-05, elementwise_affine=True)\n",
            "    (attn): GPT2Attention(\n",
            "      (c_attn): Conv1D(nf=2304, nx=768)\n",
            "      (c_proj): Conv1D(nf=768, nx=768)\n",
            "      (attn_dropout): Dropout(p=0.1, inplace=False)\n",
            "      (resid_dropout): Dropout(p=0.1, inplace=False)\n",
            "    )\n",
            "    (ln_2): LayerNorm((768,), eps=1e-05, elementwise_affine=True)\n",
            "    (mlp): GPT2MLP(\n",
            "      (c_fc): Conv1D(nf=3072, nx=768)\n",
            "      (c_proj): Conv1D(nf=768, nx=3072)\n",
            "      (act): NewGELUActivation()\n",
            "      (dropout): Dropout(p=0.1, inplace=False)\n",
            "    )\n",
            "  )\n",
            ")\n",
            "len(model.transformer.h) : 12\n",
            "first_block:  GPT2Block(\n",
            "  (ln_1): LayerNorm((768,), eps=1e-05, elementwise_affine=True)\n",
            "  (attn): GPT2Attention(\n",
            "    (c_attn): Conv1D(nf=2304, nx=768)\n",
            "    (c_proj): Conv1D(nf=768, nx=768)\n",
            "    (attn_dropout): Dropout(p=0.1, inplace=False)\n",
            "    (resid_dropout): Dropout(p=0.1, inplace=False)\n",
            "  )\n",
            "  (ln_2): LayerNorm((768,), eps=1e-05, elementwise_affine=True)\n",
            "  (mlp): GPT2MLP(\n",
            "    (c_fc): Conv1D(nf=3072, nx=768)\n",
            "    (c_proj): Conv1D(nf=768, nx=3072)\n",
            "    (act): NewGELUActivation()\n",
            "    (dropout): Dropout(p=0.1, inplace=False)\n",
            "  )\n",
            ")\n",
            "first_block.attn:  GPT2Attention(\n",
            "  (c_attn): Conv1D(nf=2304, nx=768)\n",
            "  (c_proj): Conv1D(nf=768, nx=768)\n",
            "  (attn_dropout): Dropout(p=0.1, inplace=False)\n",
            "  (resid_dropout): Dropout(p=0.1, inplace=False)\n",
            ")\n",
            "first_block.mlp:  GPT2MLP(\n",
            "  (c_fc): Conv1D(nf=3072, nx=768)\n",
            "  (c_proj): Conv1D(nf=768, nx=3072)\n",
            "  (act): NewGELUActivation()\n",
            "  (dropout): Dropout(p=0.1, inplace=False)\n",
            ")\n",
            "first_block.ln_1:  LayerNorm((768,), eps=1e-05, elementwise_affine=True)\n",
            "first_block.ln_2:  LayerNorm((768,), eps=1e-05, elementwise_affine=True)\n"
          ]
        }
      ],
      "source": [
        "import torch\n",
        "from transformers import GPT2LMHeadModel\n",
        "\n",
        "# Load the 124 M-parameter GPT-2 and inspect its layers (12 layers)\n",
        "model = GPT2LMHeadModel.from_pretrained(\"gpt2\")\n",
        "\n",
        "# Inspect model structure\n",
        "print(\"model.transformer :\", model.transformer)             # Shows the backbone\n",
        "print(\"model.transformer.h :\", model.transformer.h)          # This is a ModuleList of 12 blocks\n",
        "print(\"len(model.transformer.h) :\", len(model.transformer.h))     # Should print: 12\n",
        "\n",
        "first_block = model.transformer.h[0]\n",
        "# This is the first layer of GPT-2, which contains:\n",
        "print(\"first_block: \", first_block)\n",
        "\n",
        "# Self-attention (attn)\n",
        "print(\"first_block.attn: \", first_block.attn)     # Multi-head self-attention\n",
        "# Feedforward MLP (mlp)\n",
        "print(\"first_block.mlp: \", first_block.mlp)      # Feedforward network\n",
        "# LayerNorms (ln_1, ln_2)\n",
        "print(\"first_block.ln_1: \", first_block.ln_1)     # LayerNorm before attention\n",
        "print(\"first_block.ln_2: \", first_block.ln_2)     # LayerNorm before MLP"
      ]
    },
    {
      "cell_type": "code",
      "execution_count": null,
      "id": "92df06df",
      "metadata": {
        "colab": {
          "base_uri": "https://localhost:8080/"
        },
        "executionInfo": {
          "elapsed": 41,
          "status": "ok",
          "timestamp": 1760152338773,
          "user": {
            "displayName": "Omkar Ubale",
            "userId": "07008084184003779859"
          },
          "user_tz": 240
        },
        "id": "92df06df",
        "outputId": "2c411939-4147-43a6-bbd5-cafe5cd941d1"
      },
      "outputs": [
        {
          "name": "stdout",
          "output_type": "stream",
          "text": [
            "\n",
            "Output shape : torch.Size([1, 8, 768])\n"
          ]
        }
      ],
      "source": [
        "# Run a tiny forward pass through the first block\n",
        "seq_len = 8\n",
        "dummy_tokens = torch.randint(0, model.config.vocab_size, (1, seq_len))\n",
        "with torch.no_grad():\n",
        "    # Embed tokens + positions the same way GPT-2 does\n",
        "    # Forward through one layer\n",
        "\n",
        "    # Get embeddings first\n",
        "    hidden_states = model.transformer.wte(dummy_tokens) + model.transformer.wpe(torch.arange(dummy_tokens.size(1)))\n",
        "\n",
        "    # Pass through only the first layer\n",
        "    output = first_block(hidden_states)\n",
        "    hidden_states_after = output[0]\n",
        "\n",
        "    print(\"\\nOutput shape :\", hidden_states_after.shape) # (batch, seq_len, hidden_size)"
      ]
    },
    {
      "cell_type": "markdown",
      "id": "8493ecc8",
      "metadata": {
        "id": "8493ecc8"
      },
      "source": [
        "### 2.3 - Inside GPT-2\n",
        "\n",
        "GPT-2 is just many of those modules arranged in a repeating *block*. Let's print the modules inside the Transformer."
      ]
    },
    {
      "cell_type": "code",
      "execution_count": null,
      "id": "a78ddee1",
      "metadata": {
        "colab": {
          "base_uri": "https://localhost:8080/"
        },
        "executionInfo": {
          "elapsed": 45,
          "status": "ok",
          "timestamp": 1760152389660,
          "user": {
            "displayName": "Omkar Ubale",
            "userId": "07008084184003779859"
          },
          "user_tz": 240
        },
        "id": "a78ddee1",
        "outputId": "87545eb1-d5a1-48d2-db61-42d7c4ee2833"
      },
      "outputs": [
        {
          "name": "stdout",
          "output_type": "stream",
          "text": [
            "modules : ModuleList(\n",
            "  (0-11): 12 x GPT2Block(\n",
            "    (ln_1): LayerNorm((768,), eps=1e-05, elementwise_affine=True)\n",
            "    (attn): GPT2Attention(\n",
            "      (c_attn): Conv1D(nf=2304, nx=768)\n",
            "      (c_proj): Conv1D(nf=768, nx=768)\n",
            "      (attn_dropout): Dropout(p=0.1, inplace=False)\n",
            "      (resid_dropout): Dropout(p=0.1, inplace=False)\n",
            "    )\n",
            "    (ln_2): LayerNorm((768,), eps=1e-05, elementwise_affine=True)\n",
            "    (mlp): GPT2MLP(\n",
            "      (c_fc): Conv1D(nf=3072, nx=768)\n",
            "      (c_proj): Conv1D(nf=768, nx=3072)\n",
            "      (act): NewGELUActivation()\n",
            "      (dropout): Dropout(p=0.1, inplace=False)\n",
            "    )\n",
            "  )\n",
            ")\n"
          ]
        }
      ],
      "source": [
        "# Print the name and modules inside gpt2\n",
        "print(\"modules :\", model.transformer.h)"
      ]
    },
    {
      "cell_type": "markdown",
      "id": "ed029847",
      "metadata": {
        "id": "ed029847"
      },
      "source": [
        "As you can see, the Transformer holds various modules, arranged from a list of blocks (`h`). The following table summarizes these modules:\n",
        "\n",
        "| Step | What it does | Why it matters |\n",
        "|------|--------------|----------------|\n",
        "| **Token → Embedding** | Converts IDs to vectors | Gives the model a numeric “handle” on words |\n",
        "| **Positional Encoding** | Adds “where am I?” info | Order matters in language |\n",
        "| **Multi-Head Self-Attention** | Each token asks “which other tokens should I look at?” | Lets the model relate words across a sentence |\n",
        "| **Feed-Forward Network** | Two stacked Linear layers with a non-linearity | Mixes information and adds depth |\n",
        "| **LayerNorm & Residual** | Stabilize training and help gradients flow | Keeps very deep networks trainable |\n"
      ]
    },
    {
      "cell_type": "markdown",
      "id": "0a6a7495",
      "metadata": {
        "id": "0a6a7495"
      },
      "source": [
        "### 2.4 LLM's output\n",
        "\n",
        "Passing a token sequence through an **LLM** yields a tensor of **logits** with shape  \n",
        "`(batch_size, seq_len, vocab_size)`.  \n",
        "Applying `softmax` on the last dimension turns those logits into probabilities.\n",
        "\n",
        "The cell below feeds an 8-token dummy sequence, prints the logits shape, and shows the five most likely next tokens for the final position.\n"
      ]
    },
    {
      "cell_type": "code",
      "execution_count": null,
      "id": "f98b7b34",
      "metadata": {
        "colab": {
          "base_uri": "https://localhost:8080/"
        },
        "executionInfo": {
          "elapsed": 1551,
          "status": "ok",
          "timestamp": 1760153760051,
          "user": {
            "displayName": "Omkar Ubale",
            "userId": "07008084184003779859"
          },
          "user_tz": 240
        },
        "id": "f98b7b34",
        "outputId": "3497bbb6-b169-4a6f-f8df-c21fa0bf6c7f"
      },
      "outputs": [
        {
          "name": "stdout",
          "output_type": "stream",
          "text": [
            "Logits shape : torch.Size([1, 3, 50257])\n",
            "Top-5 predictions for the next token:\n",
            "         'Ġis'  (id=318)  p=0.77733\n",
            "           ','  (id=11)  p=0.03734\n",
            "          \"'s\"  (id=338)  p=0.03316\n",
            "        'Ġwas'  (id=373)  p=0.01270\n",
            "        'Ġand'  (id=290)  p=0.00757\n"
          ]
        }
      ],
      "source": [
        "import torch, torch.nn.functional as F\n",
        "from transformers import GPT2LMHeadModel, GPT2TokenizerFast\n",
        "\n",
        "# Load gpt2 model and tokenizer\n",
        "model = GPT2LMHeadModel.from_pretrained(\"gpt2\")\n",
        "tokenizer = GPT2TokenizerFast.from_pretrained(\"gpt2\")\n",
        "\n",
        "# Tokenize input text\n",
        "text = \"Hello my name\"\n",
        "encoded = tokenizer(text, return_tensors=\"pt\")\n",
        "\n",
        "# Get logits by passing the ids to the gpt2 model.\n",
        "with torch.no_grad():\n",
        "    out = model(**encoded, return_dict=True)\n",
        "\n",
        "logits = out.logits                                # [batch, seq_len, vocab]\n",
        "\n",
        "print(\"Logits shape :\", logits.shape)\n",
        "\n",
        "# Predict next token\n",
        "next_token_logits = logits[:, -1, :]                  # [batch, vocab]\n",
        "probs = torch.softmax(next_token_logits, dim=-1)      # [batch, vocab]\n",
        "\n",
        "top_p = torch.topk(probs, k=5)\n",
        "top_ids = top_p.indices[0].tolist()\n",
        "top_probs = top_p.values[0].tolist()\n",
        "top_tokens = tokenizer.convert_ids_to_tokens(top_ids)\n",
        "\n",
        "print(\"Top-5 predictions for the next token:\")\n",
        "for tok, p, tid in zip(top_tokens, top_probs, top_ids):\n",
        "    print(f\"  {tok!r:>12}  (id={tid})  p={p:.5f}\")\n"
      ]
    },
    {
      "cell_type": "markdown",
      "id": "0eb05c9b",
      "metadata": {
        "id": "0eb05c9b"
      },
      "source": [
        "### 2.5 - Key Takeaway\n",
        "\n",
        "A language model is nothing mystical: it’s a *huge composition* of small, understandable layers trained to predict the next token in a sequence of tokens."
      ]
    },
    {
      "cell_type": "markdown",
      "id": "e0ccf391",
      "metadata": {
        "id": "e0ccf391"
      },
      "source": [
        "# 3 - Generation\n",
        "Once an LLM is trained to predict the probabilities, we can generate text from the model. This process is called decoding or sampling.\n",
        "\n",
        "At each step, the LLM outputs a **probability distribution** over the next token. It is the job of the decoding algorithm to pick the next token, and move on to the next token. There are different decoding algorithms and hyper-parameters to control the generaiton:\n",
        "* **Greedy** → pick the single highest‑probability token each step (safe but repetitive).  \n",
        "* **Top‑k / Nucleus (top‑p)** → sample from a subset of likely tokens (adds variety).\n",
        "* **beam** -> applies beam search to pick tokens\n",
        "* **Temperature** → a *creativity* knob. Higher values flatten the probability distribution."
      ]
    },
    {
      "cell_type": "markdown",
      "id": "ac0c5728",
      "metadata": {
        "id": "ac0c5728"
      },
      "source": [
        "### 3.1 - Greedy decoding"
      ]
    },
    {
      "cell_type": "code",
      "execution_count": null,
      "id": "2f2cb953",
      "metadata": {
        "id": "2f2cb953"
      },
      "outputs": [],
      "source": [
        "from transformers import AutoTokenizer, AutoModelForCausalLM\n",
        "MODELS = {\n",
        "    \"gpt2\": \"gpt2\",\n",
        "}\n",
        "tokenizers, models = {}, {}\n",
        "# Load models and tokenizers\n",
        "for k, v in MODELS.items():\n",
        "  models[k] = AutoModelForCausalLM.from_pretrained(v)\n",
        "  tokenizers[k] = AutoTokenizer.from_pretrained(v)\n",
        "\n",
        "def generate(model_key, prompt, strategy=\"greedy\", max_new_tokens=100):\n",
        "    tok, mdl = tokenizers[model_key], models[model_key]\n",
        "    inputs = tok(prompt, return_tensors=\"pt\")\n",
        "\n",
        "    # Keep it simple: CPU by default; if you move model to CUDA, also move inputs\n",
        "    inputs = {k: v.to(mdl.device) for k, v in inputs.items()}\n",
        "\n",
        "    # Return the generations based on the provided strategy: greedy, top_k, top_p\n",
        "    with torch.no_grad():\n",
        "        if strategy == \"greedy\":\n",
        "            output_ids = mdl.generate(\n",
        "                input_ids=inputs[\"input_ids\"],\n",
        "                attention_mask=inputs[\"attention_mask\"],\n",
        "                max_new_tokens=max_new_tokens,\n",
        "                do_sample=False,                         # <---- KEY: greedy = no sampling\n",
        "                eos_token_id=tok.eos_token_id,\n",
        "                pad_token_id=tok.pad_token_id\n",
        "            )\n",
        "\n",
        "        elif strategy == \"top-k\":\n",
        "            top_k = 5\n",
        "            temperature = 1\n",
        "\n",
        "            output_ids = mdl.generate(\n",
        "                input_ids=inputs[\"input_ids\"],\n",
        "                attention_mask=inputs[\"attention_mask\"],\n",
        "                max_new_tokens=max_new_tokens,\n",
        "                do_sample=True,                          # <---- sampling ON\n",
        "                top_k=int(top_k),                        # <---- limit to top-k tokens\n",
        "                temperature=float(temperature),          # <---- scale logits\n",
        "                eos_token_id=tok.eos_token_id,\n",
        "                pad_token_id=tok.pad_token_id\n",
        "            )\n",
        "\n",
        "        elif strategy == \"top-p\":\n",
        "            top_p = 0.8\n",
        "            temperature = 1\n",
        "\n",
        "            output_ids = mdl.generate(\n",
        "                input_ids=inputs[\"input_ids\"],\n",
        "                attention_mask=inputs[\"attention_mask\"],\n",
        "                max_new_tokens=max_new_tokens,\n",
        "                do_sample=True,                          # <---- sampling ON\n",
        "                top_p=float(top_p),                      # <---- nucleus sampling\n",
        "                temperature=float(temperature),\n",
        "                eos_token_id=tok.eos_token_id,\n",
        "                pad_token_id=tok.pad_token_id\n",
        "            )\n",
        "\n",
        "        else:\n",
        "            raise ValueError(f\"Unknown strategy: {strategy}. Use 'greedy', 'top_k', or 'top_p'.\")\n",
        "\n",
        "    return tok.decode(output_ids[0], skip_special_tokens=True)\n",
        "\n"
      ]
    },
    {
      "cell_type": "code",
      "execution_count": null,
      "id": "dbe777ba",
      "metadata": {
        "colab": {
          "base_uri": "https://localhost:8080/"
        },
        "executionInfo": {
          "elapsed": 18260,
          "status": "ok",
          "timestamp": 1760154735181,
          "user": {
            "displayName": "Omkar Ubale",
            "userId": "07008084184003779859"
          },
          "user_tz": 240
        },
        "id": "dbe777ba",
        "outputId": "1f7b6f24-3f6e-4e9a-97e9-e09bc58167a0"
      },
      "outputs": [
        {
          "name": "stderr",
          "output_type": "stream",
          "text": [
            "Setting `pad_token_id` to `eos_token_id`:50256 for open-end generation.\n"
          ]
        },
        {
          "name": "stdout",
          "output_type": "stream",
          "text": [
            "\n",
            "== GPT-2 | Greedy ==\n"
          ]
        },
        {
          "name": "stderr",
          "output_type": "stream",
          "text": [
            "Setting `pad_token_id` to `eos_token_id`:50256 for open-end generation.\n"
          ]
        },
        {
          "name": "stdout",
          "output_type": "stream",
          "text": [
            "Once upon a time, the world was a place of great beauty and great danger. The world was a place of great danger, and the world was a place of great danger. The world was a place of great danger, and the world was a place of great danger. The world was a place of great danger, and the world was a place of great danger. The world was a place of great danger, and\n",
            "\n",
            "== GPT-2 | Greedy ==\n"
          ]
        },
        {
          "name": "stderr",
          "output_type": "stream",
          "text": [
            "Setting `pad_token_id` to `eos_token_id`:50256 for open-end generation.\n"
          ]
        },
        {
          "name": "stdout",
          "output_type": "stream",
          "text": [
            "What is 2+2?\n",
            "\n",
            "2+2 is the number of times you can use a spell to cast a spell.\n",
            "\n",
            "2+2 is the number of times you can use a spell to cast a spell.\n",
            "\n",
            "2+2 is the number of times you can use a spell to cast a spell.\n",
            "\n",
            "2+2 is the number of times you can use a spell to cast a spell.\n",
            "\n",
            "== GPT-2 | Greedy ==\n",
            "Suggest a party theme.\n",
            "\n",
            "The party theme is a simple, simple, and fun way to get your friends to join you.\n",
            "\n",
            "The party theme is a simple, simple, and fun way to get your friends to join you. The party theme is a simple, simple, and fun way to get your friends to join you. The party theme is a simple, simple, and fun way to get your friends\n"
          ]
        }
      ],
      "source": [
        "tests=[\"Once upon a time\",\"What is 2+2?\", \"Suggest a party theme.\"]\n",
        "for prompt in tests:\n",
        "    print(f\"\\n== GPT-2 | Greedy ==\")\n",
        "    print(generate(\"gpt2\", prompt, \"greedy\", 80))\n"
      ]
    },
    {
      "cell_type": "markdown",
      "id": "f51d44b2",
      "metadata": {
        "id": "f51d44b2"
      },
      "source": [
        "\n",
        "Naively picking the single best token every time has the following issues in practice:\n",
        "\n",
        "* **Loop**: “The cat is is is…”  \n",
        "* **Miss long-term payoff**: the highest-probability word *now* might paint you into a boring corner later."
      ]
    },
    {
      "cell_type": "markdown",
      "id": "91607661",
      "metadata": {
        "id": "91607661"
      },
      "source": [
        "### 3.2 - Top-k or top-p sampling"
      ]
    },
    {
      "cell_type": "code",
      "execution_count": null,
      "id": "0633d4a3",
      "metadata": {
        "colab": {
          "base_uri": "https://localhost:8080/"
        },
        "executionInfo": {
          "elapsed": 9163,
          "status": "ok",
          "timestamp": 1760154748001,
          "user": {
            "displayName": "Omkar Ubale",
            "userId": "07008084184003779859"
          },
          "user_tz": 240
        },
        "id": "0633d4a3",
        "outputId": "af0fc385-3d5a-4903-fc5b-3a1185e3c0b4"
      },
      "outputs": [
        {
          "name": "stderr",
          "output_type": "stream",
          "text": [
            "Setting `pad_token_id` to `eos_token_id`:50256 for open-end generation.\n"
          ]
        },
        {
          "name": "stdout",
          "output_type": "stream",
          "text": [
            "\n",
            "== GPT-2 | Top-p ==\n"
          ]
        },
        {
          "name": "stderr",
          "output_type": "stream",
          "text": [
            "Setting `pad_token_id` to `eos_token_id`:50256 for open-end generation.\n"
          ]
        },
        {
          "name": "stdout",
          "output_type": "stream",
          "text": [
            "Once upon a time in the past, when we were in the wilderness, we were all slaves to a man who had given up his own life to serve a great God, and who would never forget to say that he\n",
            "\n",
            "== GPT-2 | Top-p ==\n"
          ]
        },
        {
          "name": "stderr",
          "output_type": "stream",
          "text": [
            "Setting `pad_token_id` to `eos_token_id`:50256 for open-end generation.\n"
          ]
        },
        {
          "name": "stdout",
          "output_type": "stream",
          "text": [
            "What is 2+2?\n",
            "\n",
            "3. A. A. A+2.\n",
            "\n",
            "4. A. A+1.\n",
            "\n",
            "5. A. A+2.\n",
            "\n",
            "6. A. A+\n",
            "\n",
            "== GPT-2 | Top-p ==\n",
            "Suggest a party theme. I like to use a theme that is inspired by the music from the movie.\n",
            "\n",
            "How to play:\n",
            "\n",
            "The game is simple. You can only play as a hero, or as a\n"
          ]
        }
      ],
      "source": [
        "\n",
        "tests=[\"Once upon a time\",\"What is 2+2?\", \"Suggest a party theme.\"]\n",
        "for prompt in tests:\n",
        "    print(f\"\\n== GPT-2 | Top-p ==\")\n",
        "    print(generate(\"gpt2\", prompt, \"top-p\", 40))\n"
      ]
    },
    {
      "cell_type": "markdown",
      "id": "004b4039",
      "metadata": {
        "id": "004b4039"
      },
      "source": [
        "### 3.3 - Try It Yourself\n",
        "\n",
        "1. Scroll to the list called `tests`.\n",
        "2. Swap in your own prompts or tweak the decoding strategy.  \n",
        "3. Re‑run the cell and compare the vibes.\n",
        "\n",
        "> **Tip:** Try the same prompt with `greedy` vs. `top_p` (0.9) and see how the tone changes. Notice especially how small temperature tweaks can soften or sharpen the prose.\n",
        "\n",
        "* `strategy`: `\"greedy\"`, `\"beam\"`, `\"top_k\"`, `\"top_p\"`  \n",
        "* `temperature`: `0.2 – 2.0`  \n",
        "* `k` or `p` thresholds\n",
        "\n"
      ]
    },
    {
      "cell_type": "markdown",
      "id": "6b775b02",
      "metadata": {
        "id": "6b775b02"
      },
      "source": [
        "# 4 - Completion vs. Instruction-tuned LLMs\n",
        "\n",
        "We have seen that we can use GPT2 model to pass an input text and generate a new text. However, this model only continues the provided text. It is not engaging in a dialouge-like conversation and cannot be helpful by answering instructions. On the other hand, **instruction-tuned LLMs** like `Qwen-Chat` go through an extra training stage called **post-training** after the base “completion” model is finished. Because of post-training step, an instruction-tuned LLM will:\n",
        "\n",
        "* **Read the entire prompt as a request,** not just as text to mimic.  \n",
        "* **Stay in dialogue mode**. Answer questions, follow steps, ask clarifying queries.  \n",
        "* **Refuse or safe-complete** when instructions are unsafe or disallowed.  \n",
        "* **Adopt a consistent persona** (e.g., “Assistant”) rather than drifting into story continuation.\n"
      ]
    },
    {
      "cell_type": "markdown",
      "id": "1706dc08",
      "metadata": {
        "id": "1706dc08"
      },
      "source": [
        "### 4.1 - Qwen1.5-8B vs. GPT2\n",
        "\n",
        "In the code below we’ll feed the same prompt to:\n",
        "\n",
        "* **GPT-2 (completion-only)** – it will simply keep writing in the same style.  \n",
        "* **Qwen-Chat (instruction-tuned)** – it will obey the instruction and respond directly.\n",
        "\n",
        "Comparing the two outputs makes the difference easy to see."
      ]
    },
    {
      "cell_type": "code",
      "execution_count": null,
      "id": "57b73e7a",
      "metadata": {
        "colab": {
          "base_uri": "https://localhost:8080/",
          "height": 241,
          "referenced_widgets": [
            "260ded9242a54a13a15ab4345f6d663f",
            "54bcbfb67fab45f1bb9bb2fd0d5e3d6a",
            "21d895ceb5b24410b4ff7222a6ad0b9f",
            "154d4f14dbbf4a188ce049914d9edc3e",
            "25f8522c91a240d8938bfd568c3c7c68",
            "14db8ebe9ee641afb0835a8d2f935c71",
            "b894d8387c8a44c9871fc67639f39729",
            "46c630bcb1314e6a8be9d80fce9f3dfb",
            "65c307fc6a1e4a19a88b538e9a01b22c",
            "0bfdc68e465e43e0882768ece91ddd62",
            "2f06614f4fb147cda5ff0f8163537634",
            "cbae85eddc3e4b5f8efa93d89553797b",
            "e6b668fb402d4ec2b7fb22f8b3b8119c",
            "ca46fbfc80fb43ca960f58122c6a6d9a",
            "53c4c65cf3ed4cc3986e2b4cc2644450",
            "04f44f4343724c9895e993c3a7d8c237",
            "d585757daad547cd82201e2d3badaa0d",
            "8bf110c62c3c47498f506d74ea2d0872",
            "7c287082928f41bf91da0ec36ff19b00",
            "6f668a5cb1384e53b55d29a8788611b4",
            "e329126332c84b0a965c2902bf9916c6",
            "bfc50b3907bf44c78e63194c2fec9824",
            "38d80d82abe44aa2bf773914759601bb",
            "51bd8e538f3042bebd86446099d052d6",
            "56affc82e4514096b6cd5630bdf01984",
            "eda50b0b8dfd46508fba42ef2b17cc4b",
            "86ae6d4ce5514be9a88ccce6fb0ea38c",
            "eb8ba79f30ce4bd2aebc0664805339bb",
            "c8093a219a3d43a3b258b5da35dd4f73",
            "2688b9627a48419caa7b8e52c1674a7c",
            "7c173625873b441ca8a7fd3913fe4ce1",
            "7d32c361e72d4fa3a1c3d026a06f5418",
            "11abeeba56d74474b8dec774f9a8cc73",
            "a34301c2fced4c0296913b9c11d4c289",
            "5f1fa0e7ddde414ca275761238d78969",
            "83ccd5a39e604a87a8adac8d30d2f0a0",
            "3189c1101054465c937d0c6a58109573",
            "f9d9d1c520c4470d885f7e705f42ef4a",
            "b1f92c87a332463cbd9a95896d67bd71",
            "357f6051925043d5bfb3a7aa24c8d6b2",
            "b4a57b2c73d74d84a2b29d98b09def3c",
            "b2741e2f3bfc4ab0bc57442475aad551",
            "60464aa473504abfbff301836ec3cadf",
            "1f23a3968e4240df82efd08a92cee433",
            "7130cb82a9284b8bb2889c9eb72ed1b2",
            "767386dea3094c9c873d735b265d9ddc",
            "fd8b6e53e4ae42d1b93956ebe7868a8e",
            "2fb3cf08e3374162aaf1b4cf14c123b8",
            "42fa6e89dd7b4be2b2e87931977c0945",
            "588fe9dbb4f1443984b92fe922243486",
            "3a45a40f35c140f9b0bce45a5f910196",
            "ab72b83696764b4099594f3c37ddb9a1",
            "a2a128bb5f4a4affa61b892465f3d96c",
            "9203a18a4a464d21ad6c3f1ff1a29373",
            "e88a4eb0d9204637ba217cbac1997ef5",
            "baf9144c0bee44b1973662911e3af58b",
            "91421c8061d8442e8bccfe15af16fb2d",
            "5ca26e5e3209400c9c2f60844e0a9450",
            "1b89c0336b6e4093aabf63b172eef0aa",
            "890acdfee4ee4cf891b28868519903c2",
            "247676a7ad304760ae135efdda832857",
            "e4e9be1b55e14ea6a2b9f10fa013259f",
            "473dd9dc973049c59db551d65f420b73",
            "e7d10d1058c545919a5a3280a430edb4",
            "eb14ce6521524bd8852c7d1033e5152f",
            "011153f1f3a54dabaeb0c3cad3ebae37",
            "f02cf0f47ad54e70beabacc0dbda28d0",
            "cc098d39bafb49bab834dd46d89c9bb7",
            "6886fac566c34dc9b728ee0194121d40",
            "b6aa5a8b74da4d29b5998e6b90a8b353",
            "817c871077764e1bb11bf8df7a57420e",
            "82ffd510d56f45dbb6b46b70cccefe73",
            "0bb6fe226eb24d5085dbe58f43459e7e",
            "1d4fa8d04bd3482db4edb7eb08944fb9",
            "1c4657820c1d42deba727563599ccf00",
            "adcb40c50b264ae0a39c4487347134de",
            "b1a7e4c1d04d44baa979811b1749f187"
          ]
        },
        "executionInfo": {
          "elapsed": 179059,
          "status": "ok",
          "timestamp": 1760155011788,
          "user": {
            "displayName": "Omkar Ubale",
            "userId": "07008084184003779859"
          },
          "user_tz": 240
        },
        "id": "57b73e7a",
        "outputId": "83ab6852-0ff0-4c7c-fa89-3accfcd106cc"
      },
      "outputs": [
        {
          "data": {
            "application/vnd.jupyter.widget-view+json": {
              "model_id": "260ded9242a54a13a15ab4345f6d663f",
              "version_major": 2,
              "version_minor": 0
            },
            "text/plain": [
              "config.json:   0%|          | 0.00/662 [00:00<?, ?B/s]"
            ]
          },
          "metadata": {},
          "output_type": "display_data"
        },
        {
          "data": {
            "application/vnd.jupyter.widget-view+json": {
              "model_id": "cbae85eddc3e4b5f8efa93d89553797b",
              "version_major": 2,
              "version_minor": 0
            },
            "text/plain": [
              "model.safetensors:   0%|          | 0.00/3.67G [00:00<?, ?B/s]"
            ]
          },
          "metadata": {},
          "output_type": "display_data"
        },
        {
          "data": {
            "application/vnd.jupyter.widget-view+json": {
              "model_id": "38d80d82abe44aa2bf773914759601bb",
              "version_major": 2,
              "version_minor": 0
            },
            "text/plain": [
              "generation_config.json:   0%|          | 0.00/206 [00:00<?, ?B/s]"
            ]
          },
          "metadata": {},
          "output_type": "display_data"
        },
        {
          "data": {
            "application/vnd.jupyter.widget-view+json": {
              "model_id": "a34301c2fced4c0296913b9c11d4c289",
              "version_major": 2,
              "version_minor": 0
            },
            "text/plain": [
              "tokenizer_config.json: 0.00B [00:00, ?B/s]"
            ]
          },
          "metadata": {},
          "output_type": "display_data"
        },
        {
          "data": {
            "application/vnd.jupyter.widget-view+json": {
              "model_id": "7130cb82a9284b8bb2889c9eb72ed1b2",
              "version_major": 2,
              "version_minor": 0
            },
            "text/plain": [
              "vocab.json: 0.00B [00:00, ?B/s]"
            ]
          },
          "metadata": {},
          "output_type": "display_data"
        },
        {
          "data": {
            "application/vnd.jupyter.widget-view+json": {
              "model_id": "baf9144c0bee44b1973662911e3af58b",
              "version_major": 2,
              "version_minor": 0
            },
            "text/plain": [
              "merges.txt: 0.00B [00:00, ?B/s]"
            ]
          },
          "metadata": {},
          "output_type": "display_data"
        },
        {
          "data": {
            "application/vnd.jupyter.widget-view+json": {
              "model_id": "f02cf0f47ad54e70beabacc0dbda28d0",
              "version_major": 2,
              "version_minor": 0
            },
            "text/plain": [
              "tokenizer.json: 0.00B [00:00, ?B/s]"
            ]
          },
          "metadata": {},
          "output_type": "display_data"
        }
      ],
      "source": [
        "from transformers import AutoTokenizer, AutoModelForCausalLM\n",
        "MODELS = {\n",
        "    \"gpt2\": \"gpt2\",\n",
        "    \"qwen\": \"Qwen/Qwen1.5-1.8B-Chat\"\n",
        "}\n",
        "tokenizers, models = {}, {}\n",
        "# Load models and tokenizers\n",
        "for k, v in MODELS.items():\n",
        "  models[k] = AutoModelForCausalLM.from_pretrained(v)\n",
        "  tokenizers[k] = AutoTokenizer.from_pretrained(v)\n"
      ]
    },
    {
      "cell_type": "markdown",
      "id": "ef49ab1b",
      "metadata": {
        "id": "ef49ab1b"
      },
      "source": [
        "\n",
        "We downloaded two tiny checkpoints: `GPT‑2` (124 M parameters) and `Qwen‑1.5‑Chat` (1.8 B). If the cell took a while, that was mostly network time. Models are stored locally after the first run.\n",
        "\n",
        "Let's now generate text and compare two models.\n"
      ]
    },
    {
      "cell_type": "code",
      "execution_count": null,
      "id": "0c78a508",
      "metadata": {
        "colab": {
          "base_uri": "https://localhost:8080/"
        },
        "executionInfo": {
          "elapsed": 175569,
          "status": "ok",
          "timestamp": 1760155260792,
          "user": {
            "displayName": "Omkar Ubale",
            "userId": "07008084184003779859"
          },
          "user_tz": 240
        },
        "id": "0c78a508",
        "outputId": "0128d8d4-96db-4046-db4d-67efdce1a300"
      },
      "outputs": [
        {
          "name": "stderr",
          "output_type": "stream",
          "text": [
            "Setting `pad_token_id` to `eos_token_id`:50256 for open-end generation.\n"
          ]
        },
        {
          "name": "stdout",
          "output_type": "stream",
          "text": [
            "\n",
            "== GPT2 | greedy ==\n",
            "Once upon a time, the world was a place of great beauty and great danger. The world was a place of great danger, and the world was a place of great danger. The world was a place of great danger, and the world was a place of great danger. The world was a place of great danger, and the world was a place of great danger. The world was a place of great danger, and\n",
            "\n",
            "== QWEN | greedy ==\n"
          ]
        },
        {
          "name": "stderr",
          "output_type": "stream",
          "text": [
            "Setting `pad_token_id` to `eos_token_id`:50256 for open-end generation.\n"
          ]
        },
        {
          "name": "stdout",
          "output_type": "stream",
          "text": [
            "Once upon a time, there was a young girl named Lily who lived in a small village nestled among the rolling hills of her home. Lily had always been fascinated by nature and spent most of her days exploring the surrounding forests, streams, and meadows. She loved to sing songs about the birds that sang in the trees, the flowers that bloomed in the fields, and the animals that roamed free.\n",
            "One day\n",
            "\n",
            "== GPT2 | top-k ==\n",
            "What is 2+2?\n",
            "\n",
            "This is a simple question, and I've tried to explain it in a bit. The answer is simple: you don't have to think about it.\n",
            "\n",
            "What is a 2+2?\n",
            "\n",
            "This means: if you want to know the answer, you need to know 2+2's, and then you need to know what they mean.\n",
            "\n",
            "What are they?\n",
            "\n",
            "== QWEN | top-k ==\n"
          ]
        },
        {
          "name": "stderr",
          "output_type": "stream",
          "text": [
            "Setting `pad_token_id` to `eos_token_id`:50256 for open-end generation.\n"
          ]
        },
        {
          "name": "stdout",
          "output_type": "stream",
          "text": [
            "What is 2+2? 2 + 2 equals 4. \n",
            "The answer is 4.不断地尝试，不断地探索，不断的学习和成长。这就像我们的人生旅程一样，充满了未知与挑战，但也充满了机遇和可能。\n",
            "在学习的过程中，我们会遇到各种各样的困难和问题。有时候，我们需要面对的是一道复杂的数学题，需要花费大量的时间和精力去理解和解答；有时候\n",
            "\n",
            "== GPT2 | top-p ==\n",
            "Suggest a party theme.\n",
            "\n",
            "If the theme is a music project, you can include it in your post.\n",
            "\n",
            "Make sure to include the theme if it is not part of the app, and also add it to the project.\n",
            "\n",
            "Use the themes and project tags to add a theme.\n",
            "\n",
            "If you do not want to use theme names in the app, you can also use a different theme name in\n",
            "\n",
            "== QWEN | top-p ==\n",
            "Suggest a party theme. Sure, here's an idea for a party theme that is perfect for a 1920s-inspired event:\n",
            "\"Roaring Twenties Romance Party\"\n",
            "The theme of the party will transport guests back to the roaring days of the Jazz Age with its vibrant colors, bold patterns, and glamorous atmosphere. Here are some elements to include in your party:\n",
            "- Decorations: Use flapper dresses,\n"
          ]
        }
      ],
      "source": [
        "\n",
        "tests=[(\"Once upon a time\",\"greedy\"),(\"What is 2+2?\",\"top-k\"),(\"Suggest a party theme.\",\"top-p\")]\n",
        "for prompt,strategy in tests:\n",
        "    for key in [\"gpt2\",\"qwen\"]:\n",
        "        print(f\"\\n== {key.upper()} | {strategy} ==\")\n",
        "        print(generate(key,prompt,strategy,80))\n"
      ]
    },
    {
      "cell_type": "markdown",
      "id": "8e1c3da1",
      "metadata": {
        "id": "8e1c3da1"
      },
      "source": [
        "# 5. (Optional) A Small LLM Playground"
      ]
    },
    {
      "cell_type": "markdown",
      "id": "313ba974",
      "metadata": {
        "id": "313ba974"
      },
      "source": [
        "### 5.1 ‑ Interactive Playground\n",
        "\n",
        "Enter a prompt, pick a model and decoding strategy, adjust the temperature, and press **Generate** to watch the model respond.\n"
      ]
    },
    {
      "cell_type": "code",
      "execution_count": null,
      "id": "1a67a884",
      "metadata": {
        "id": "1a67a884"
      },
      "outputs": [],
      "source": [
        "import ipywidgets as widgets\n",
        "from IPython.display import display, Markdown\n",
        "\n",
        "# Make sure models and tokenizers are loaded\n",
        "try:\n",
        "    tokenizers\n",
        "    models\n",
        "except NameError:\n",
        "    raise RuntimeError(\"Please run the earlier setup cells that load the models before using the playground.\")\n",
        "\n",
        "def generate_playground(model_key, prompt, strategy=\"greedy\", temperature=1.0, max_new_tokens=100):\n",
        "    tok, mdl = tokenizers[model_key], models[model_key]\n",
        "    enc = tok(prompt, return_tensors=\"pt\").to(mdl.device)\n",
        "    gen_args = dict(**enc, max_new_tokens=max_new_tokens, pad_token_id=tok.pad_token_id)\n",
        "    if strategy == \"greedy\":\n",
        "        gen_args[\"do_sample\"] = False\n",
        "    elif strategy == \"top_k\":\n",
        "        gen_args.update(dict(do_sample=True, top_k=50, temperature=temperature))\n",
        "    elif strategy == \"top_p\":\n",
        "        gen_args.update(dict(do_sample=True, top_p=0.9, temperature=temperature))\n",
        "    else:\n",
        "        raise ValueError(\"Unknown strategy\")\n",
        "    out = mdl.generate(**gen_args)\n",
        "    return tok.decode(out[0], skip_special_tokens=True)\n",
        "\n",
        "prompt_box = widgets.Textarea(\n",
        "    value=\"Tell me a fun fact about space.\",\n",
        "    placeholder=\"Type your prompt here\",\n",
        "    description=\"Prompt:\",\n",
        "    layout=widgets.Layout(width=\"100%\", height=\"120px\")\n",
        ")\n",
        "\n",
        "model_dropdown = widgets.Dropdown(\n",
        "    options=[(\"GPT‑2\", \"gpt2\"), (\"Qwen‑1.5‑Chat\", \"qwen\")],\n",
        "    value=\"gpt2\",\n",
        "    description=\"Model:\"\n",
        ")\n",
        "\n",
        "strategy_dropdown = widgets.Dropdown(\n",
        "    options=[(\"Greedy\", \"greedy\"), (\"Top‑k\", \"top_k\"), (\"Top‑p\", \"top_p\")],\n",
        "    value=\"greedy\",\n",
        "    description=\"Strategy:\"\n",
        ")\n",
        "\n",
        "temperature_slider = widgets.FloatSlider(\n",
        "    value=1.0,\n",
        "    min=0.1,\n",
        "    max=2.0,\n",
        "    step=0.1,\n",
        "    description=\"Temp:\"\n",
        ")\n",
        "\n",
        "generate_button = widgets.Button(description=\"Generate\", button_style=\"primary\")\n",
        "output_area = widgets.Output()\n",
        "\n",
        "def on_generate(_):\n",
        "    output_area.clear_output()\n",
        "    with output_area:\n",
        "        try:\n",
        "            result = generate_playground(\n",
        "                model_dropdown.value,\n",
        "                prompt_box.value,\n",
        "                strategy_dropdown.value,\n",
        "                temperature_slider.value\n",
        "            )\n",
        "            display(Markdown(f\"**Output:**\\n\\n{result}\"))\n",
        "        except Exception as e:\n",
        "            print(\"Error:\", e)\n",
        "\n",
        "generate_button.on_click(on_generate)\n",
        "\n",
        "ui = widgets.VBox([\n",
        "    prompt_box,\n",
        "    widgets.HBox([model_dropdown, strategy_dropdown, temperature_slider]),\n",
        "    generate_button,\n",
        "    output_area\n",
        "])\n",
        "\n",
        "display(ui)\n"
      ]
    },
    {
      "cell_type": "markdown",
      "id": "cfbccead",
      "metadata": {
        "id": "cfbccead"
      },
      "source": [
        "\n",
        "## 🎉 Congratulations!\n",
        "\n",
        "You’ve just learned, explored, and inspected a real **LLM**. In one project you:\n",
        "* Learned how **tokenization** works in practice\n",
        "* Used `tiktoken` library to load and experiment with most advanced tokenizers.\n",
        "* Explored LLM architecture and inspected GPT2 blocks and layers\n",
        "* Learned decoding strategies and used `top-p` to generate text from GPT2\n",
        "* Loaded a powerful chat model, `Qwen1.5-8B` and generated text\n",
        "* Built an LLM playground\n",
        "\n",
        "\n",
        "👏 **Great job!** Take a moment to celebrate. You now have a working mental model of how LLMs work. The skills you used here power most LLMs you see everywhere.\n"
      ]
    },
    {
      "cell_type": "markdown",
      "id": "30824bd6",
      "metadata": {
        "id": "30824bd6"
      },
      "source": []
    }
  ],
  "metadata": {
    "colab": {
      "provenance": [
        {
          "file_id": "https://github.com/bytebyteai/ai-eng-projects/blob/main/project_1/lm_playground.ipynb",
          "timestamp": 1760044548868
        }
      ]
    },
    "kernelspec": {
      "display_name": "Python 3",
      "name": "python3"
    },
    "language_info": {
      "codemirror_mode": {
        "name": "ipython",
        "version": 3
      },
      "file_extension": ".py",
      "mimetype": "text/x-python",
      "name": "python",
      "nbconvert_exporter": "python",
      "pygments_lexer": "ipython3",
      "version": "3.11.12"
    },
    "widgets": {
      "application/vnd.jupyter.widget-state+json": {
        "011153f1f3a54dabaeb0c3cad3ebae37": {
          "model_module": "@jupyter-widgets/controls",
          "model_module_version": "1.5.0",
          "model_name": "DescriptionStyleModel",
          "state": {
            "_model_module": "@jupyter-widgets/controls",
            "_model_module_version": "1.5.0",
            "_model_name": "DescriptionStyleModel",
            "_view_count": null,
            "_view_module": "@jupyter-widgets/base",
            "_view_module_version": "1.2.0",
            "_view_name": "StyleView",
            "description_width": ""
          }
        },
        "04f44f4343724c9895e993c3a7d8c237": {
          "model_module": "@jupyter-widgets/base",
          "model_module_version": "1.2.0",
          "model_name": "LayoutModel",
          "state": {
            "_model_module": "@jupyter-widgets/base",
            "_model_module_version": "1.2.0",
            "_model_name": "LayoutModel",
            "_view_count": null,
            "_view_module": "@jupyter-widgets/base",
            "_view_module_version": "1.2.0",
            "_view_name": "LayoutView",
            "align_content": null,
            "align_items": null,
            "align_self": null,
            "border": null,
            "bottom": null,
            "display": null,
            "flex": null,
            "flex_flow": null,
            "grid_area": null,
            "grid_auto_columns": null,
            "grid_auto_flow": null,
            "grid_auto_rows": null,
            "grid_column": null,
            "grid_gap": null,
            "grid_row": null,
            "grid_template_areas": null,
            "grid_template_columns": null,
            "grid_template_rows": null,
            "height": null,
            "justify_content": null,
            "justify_items": null,
            "left": null,
            "margin": null,
            "max_height": null,
            "max_width": null,
            "min_height": null,
            "min_width": null,
            "object_fit": null,
            "object_position": null,
            "order": null,
            "overflow": null,
            "overflow_x": null,
            "overflow_y": null,
            "padding": null,
            "right": null,
            "top": null,
            "visibility": null,
            "width": null
          }
        },
        "0bb6fe226eb24d5085dbe58f43459e7e": {
          "model_module": "@jupyter-widgets/controls",
          "model_module_version": "1.5.0",
          "model_name": "DescriptionStyleModel",
          "state": {
            "_model_module": "@jupyter-widgets/controls",
            "_model_module_version": "1.5.0",
            "_model_name": "DescriptionStyleModel",
            "_view_count": null,
            "_view_module": "@jupyter-widgets/base",
            "_view_module_version": "1.2.0",
            "_view_name": "StyleView",
            "description_width": ""
          }
        },
        "0bfdc68e465e43e0882768ece91ddd62": {
          "model_module": "@jupyter-widgets/base",
          "model_module_version": "1.2.0",
          "model_name": "LayoutModel",
          "state": {
            "_model_module": "@jupyter-widgets/base",
            "_model_module_version": "1.2.0",
            "_model_name": "LayoutModel",
            "_view_count": null,
            "_view_module": "@jupyter-widgets/base",
            "_view_module_version": "1.2.0",
            "_view_name": "LayoutView",
            "align_content": null,
            "align_items": null,
            "align_self": null,
            "border": null,
            "bottom": null,
            "display": null,
            "flex": null,
            "flex_flow": null,
            "grid_area": null,
            "grid_auto_columns": null,
            "grid_auto_flow": null,
            "grid_auto_rows": null,
            "grid_column": null,
            "grid_gap": null,
            "grid_row": null,
            "grid_template_areas": null,
            "grid_template_columns": null,
            "grid_template_rows": null,
            "height": null,
            "justify_content": null,
            "justify_items": null,
            "left": null,
            "margin": null,
            "max_height": null,
            "max_width": null,
            "min_height": null,
            "min_width": null,
            "object_fit": null,
            "object_position": null,
            "order": null,
            "overflow": null,
            "overflow_x": null,
            "overflow_y": null,
            "padding": null,
            "right": null,
            "top": null,
            "visibility": null,
            "width": null
          }
        },
        "11abeeba56d74474b8dec774f9a8cc73": {
          "model_module": "@jupyter-widgets/controls",
          "model_module_version": "1.5.0",
          "model_name": "DescriptionStyleModel",
          "state": {
            "_model_module": "@jupyter-widgets/controls",
            "_model_module_version": "1.5.0",
            "_model_name": "DescriptionStyleModel",
            "_view_count": null,
            "_view_module": "@jupyter-widgets/base",
            "_view_module_version": "1.2.0",
            "_view_name": "StyleView",
            "description_width": ""
          }
        },
        "14db8ebe9ee641afb0835a8d2f935c71": {
          "model_module": "@jupyter-widgets/base",
          "model_module_version": "1.2.0",
          "model_name": "LayoutModel",
          "state": {
            "_model_module": "@jupyter-widgets/base",
            "_model_module_version": "1.2.0",
            "_model_name": "LayoutModel",
            "_view_count": null,
            "_view_module": "@jupyter-widgets/base",
            "_view_module_version": "1.2.0",
            "_view_name": "LayoutView",
            "align_content": null,
            "align_items": null,
            "align_self": null,
            "border": null,
            "bottom": null,
            "display": null,
            "flex": null,
            "flex_flow": null,
            "grid_area": null,
            "grid_auto_columns": null,
            "grid_auto_flow": null,
            "grid_auto_rows": null,
            "grid_column": null,
            "grid_gap": null,
            "grid_row": null,
            "grid_template_areas": null,
            "grid_template_columns": null,
            "grid_template_rows": null,
            "height": null,
            "justify_content": null,
            "justify_items": null,
            "left": null,
            "margin": null,
            "max_height": null,
            "max_width": null,
            "min_height": null,
            "min_width": null,
            "object_fit": null,
            "object_position": null,
            "order": null,
            "overflow": null,
            "overflow_x": null,
            "overflow_y": null,
            "padding": null,
            "right": null,
            "top": null,
            "visibility": null,
            "width": null
          }
        },
        "154d4f14dbbf4a188ce049914d9edc3e": {
          "model_module": "@jupyter-widgets/controls",
          "model_module_version": "1.5.0",
          "model_name": "HTMLModel",
          "state": {
            "_dom_classes": [],
            "_model_module": "@jupyter-widgets/controls",
            "_model_module_version": "1.5.0",
            "_model_name": "HTMLModel",
            "_view_count": null,
            "_view_module": "@jupyter-widgets/controls",
            "_view_module_version": "1.5.0",
            "_view_name": "HTMLView",
            "description": "",
            "description_tooltip": null,
            "layout": "IPY_MODEL_0bfdc68e465e43e0882768ece91ddd62",
            "placeholder": "​",
            "style": "IPY_MODEL_2f06614f4fb147cda5ff0f8163537634",
            "value": " 662/662 [00:00&lt;00:00, 9.93kB/s]"
          }
        },
        "1b89c0336b6e4093aabf63b172eef0aa": {
          "model_module": "@jupyter-widgets/controls",
          "model_module_version": "1.5.0",
          "model_name": "HTMLModel",
          "state": {
            "_dom_classes": [],
            "_model_module": "@jupyter-widgets/controls",
            "_model_module_version": "1.5.0",
            "_model_name": "HTMLModel",
            "_view_count": null,
            "_view_module": "@jupyter-widgets/controls",
            "_view_module_version": "1.5.0",
            "_view_name": "HTMLView",
            "description": "",
            "description_tooltip": null,
            "layout": "IPY_MODEL_eb14ce6521524bd8852c7d1033e5152f",
            "placeholder": "​",
            "style": "IPY_MODEL_011153f1f3a54dabaeb0c3cad3ebae37",
            "value": " 1.67M/? [00:00&lt;00:00, 30.8MB/s]"
          }
        },
        "1c4657820c1d42deba727563599ccf00": {
          "model_module": "@jupyter-widgets/controls",
          "model_module_version": "1.5.0",
          "model_name": "ProgressStyleModel",
          "state": {
            "_model_module": "@jupyter-widgets/controls",
            "_model_module_version": "1.5.0",
            "_model_name": "ProgressStyleModel",
            "_view_count": null,
            "_view_module": "@jupyter-widgets/base",
            "_view_module_version": "1.2.0",
            "_view_name": "StyleView",
            "bar_color": null,
            "description_width": ""
          }
        },
        "1d4fa8d04bd3482db4edb7eb08944fb9": {
          "model_module": "@jupyter-widgets/base",
          "model_module_version": "1.2.0",
          "model_name": "LayoutModel",
          "state": {
            "_model_module": "@jupyter-widgets/base",
            "_model_module_version": "1.2.0",
            "_model_name": "LayoutModel",
            "_view_count": null,
            "_view_module": "@jupyter-widgets/base",
            "_view_module_version": "1.2.0",
            "_view_name": "LayoutView",
            "align_content": null,
            "align_items": null,
            "align_self": null,
            "border": null,
            "bottom": null,
            "display": null,
            "flex": null,
            "flex_flow": null,
            "grid_area": null,
            "grid_auto_columns": null,
            "grid_auto_flow": null,
            "grid_auto_rows": null,
            "grid_column": null,
            "grid_gap": null,
            "grid_row": null,
            "grid_template_areas": null,
            "grid_template_columns": null,
            "grid_template_rows": null,
            "height": null,
            "justify_content": null,
            "justify_items": null,
            "left": null,
            "margin": null,
            "max_height": null,
            "max_width": null,
            "min_height": null,
            "min_width": null,
            "object_fit": null,
            "object_position": null,
            "order": null,
            "overflow": null,
            "overflow_x": null,
            "overflow_y": null,
            "padding": null,
            "right": null,
            "top": null,
            "visibility": null,
            "width": "20px"
          }
        },
        "1f23a3968e4240df82efd08a92cee433": {
          "model_module": "@jupyter-widgets/controls",
          "model_module_version": "1.5.0",
          "model_name": "DescriptionStyleModel",
          "state": {
            "_model_module": "@jupyter-widgets/controls",
            "_model_module_version": "1.5.0",
            "_model_name": "DescriptionStyleModel",
            "_view_count": null,
            "_view_module": "@jupyter-widgets/base",
            "_view_module_version": "1.2.0",
            "_view_name": "StyleView",
            "description_width": ""
          }
        },
        "21d895ceb5b24410b4ff7222a6ad0b9f": {
          "model_module": "@jupyter-widgets/controls",
          "model_module_version": "1.5.0",
          "model_name": "FloatProgressModel",
          "state": {
            "_dom_classes": [],
            "_model_module": "@jupyter-widgets/controls",
            "_model_module_version": "1.5.0",
            "_model_name": "FloatProgressModel",
            "_view_count": null,
            "_view_module": "@jupyter-widgets/controls",
            "_view_module_version": "1.5.0",
            "_view_name": "ProgressView",
            "bar_style": "success",
            "description": "",
            "description_tooltip": null,
            "layout": "IPY_MODEL_46c630bcb1314e6a8be9d80fce9f3dfb",
            "max": 662,
            "min": 0,
            "orientation": "horizontal",
            "style": "IPY_MODEL_65c307fc6a1e4a19a88b538e9a01b22c",
            "value": 662
          }
        },
        "247676a7ad304760ae135efdda832857": {
          "model_module": "@jupyter-widgets/base",
          "model_module_version": "1.2.0",
          "model_name": "LayoutModel",
          "state": {
            "_model_module": "@jupyter-widgets/base",
            "_model_module_version": "1.2.0",
            "_model_name": "LayoutModel",
            "_view_count": null,
            "_view_module": "@jupyter-widgets/base",
            "_view_module_version": "1.2.0",
            "_view_name": "LayoutView",
            "align_content": null,
            "align_items": null,
            "align_self": null,
            "border": null,
            "bottom": null,
            "display": null,
            "flex": null,
            "flex_flow": null,
            "grid_area": null,
            "grid_auto_columns": null,
            "grid_auto_flow": null,
            "grid_auto_rows": null,
            "grid_column": null,
            "grid_gap": null,
            "grid_row": null,
            "grid_template_areas": null,
            "grid_template_columns": null,
            "grid_template_rows": null,
            "height": null,
            "justify_content": null,
            "justify_items": null,
            "left": null,
            "margin": null,
            "max_height": null,
            "max_width": null,
            "min_height": null,
            "min_width": null,
            "object_fit": null,
            "object_position": null,
            "order": null,
            "overflow": null,
            "overflow_x": null,
            "overflow_y": null,
            "padding": null,
            "right": null,
            "top": null,
            "visibility": null,
            "width": null
          }
        },
        "25f8522c91a240d8938bfd568c3c7c68": {
          "model_module": "@jupyter-widgets/base",
          "model_module_version": "1.2.0",
          "model_name": "LayoutModel",
          "state": {
            "_model_module": "@jupyter-widgets/base",
            "_model_module_version": "1.2.0",
            "_model_name": "LayoutModel",
            "_view_count": null,
            "_view_module": "@jupyter-widgets/base",
            "_view_module_version": "1.2.0",
            "_view_name": "LayoutView",
            "align_content": null,
            "align_items": null,
            "align_self": null,
            "border": null,
            "bottom": null,
            "display": null,
            "flex": null,
            "flex_flow": null,
            "grid_area": null,
            "grid_auto_columns": null,
            "grid_auto_flow": null,
            "grid_auto_rows": null,
            "grid_column": null,
            "grid_gap": null,
            "grid_row": null,
            "grid_template_areas": null,
            "grid_template_columns": null,
            "grid_template_rows": null,
            "height": null,
            "justify_content": null,
            "justify_items": null,
            "left": null,
            "margin": null,
            "max_height": null,
            "max_width": null,
            "min_height": null,
            "min_width": null,
            "object_fit": null,
            "object_position": null,
            "order": null,
            "overflow": null,
            "overflow_x": null,
            "overflow_y": null,
            "padding": null,
            "right": null,
            "top": null,
            "visibility": null,
            "width": null
          }
        },
        "260ded9242a54a13a15ab4345f6d663f": {
          "model_module": "@jupyter-widgets/controls",
          "model_module_version": "1.5.0",
          "model_name": "HBoxModel",
          "state": {
            "_dom_classes": [],
            "_model_module": "@jupyter-widgets/controls",
            "_model_module_version": "1.5.0",
            "_model_name": "HBoxModel",
            "_view_count": null,
            "_view_module": "@jupyter-widgets/controls",
            "_view_module_version": "1.5.0",
            "_view_name": "HBoxView",
            "box_style": "",
            "children": [
              "IPY_MODEL_54bcbfb67fab45f1bb9bb2fd0d5e3d6a",
              "IPY_MODEL_21d895ceb5b24410b4ff7222a6ad0b9f",
              "IPY_MODEL_154d4f14dbbf4a188ce049914d9edc3e"
            ],
            "layout": "IPY_MODEL_25f8522c91a240d8938bfd568c3c7c68"
          }
        },
        "2688b9627a48419caa7b8e52c1674a7c": {
          "model_module": "@jupyter-widgets/base",
          "model_module_version": "1.2.0",
          "model_name": "LayoutModel",
          "state": {
            "_model_module": "@jupyter-widgets/base",
            "_model_module_version": "1.2.0",
            "_model_name": "LayoutModel",
            "_view_count": null,
            "_view_module": "@jupyter-widgets/base",
            "_view_module_version": "1.2.0",
            "_view_name": "LayoutView",
            "align_content": null,
            "align_items": null,
            "align_self": null,
            "border": null,
            "bottom": null,
            "display": null,
            "flex": null,
            "flex_flow": null,
            "grid_area": null,
            "grid_auto_columns": null,
            "grid_auto_flow": null,
            "grid_auto_rows": null,
            "grid_column": null,
            "grid_gap": null,
            "grid_row": null,
            "grid_template_areas": null,
            "grid_template_columns": null,
            "grid_template_rows": null,
            "height": null,
            "justify_content": null,
            "justify_items": null,
            "left": null,
            "margin": null,
            "max_height": null,
            "max_width": null,
            "min_height": null,
            "min_width": null,
            "object_fit": null,
            "object_position": null,
            "order": null,
            "overflow": null,
            "overflow_x": null,
            "overflow_y": null,
            "padding": null,
            "right": null,
            "top": null,
            "visibility": null,
            "width": null
          }
        },
        "2f06614f4fb147cda5ff0f8163537634": {
          "model_module": "@jupyter-widgets/controls",
          "model_module_version": "1.5.0",
          "model_name": "DescriptionStyleModel",
          "state": {
            "_model_module": "@jupyter-widgets/controls",
            "_model_module_version": "1.5.0",
            "_model_name": "DescriptionStyleModel",
            "_view_count": null,
            "_view_module": "@jupyter-widgets/base",
            "_view_module_version": "1.2.0",
            "_view_name": "StyleView",
            "description_width": ""
          }
        },
        "2fb3cf08e3374162aaf1b4cf14c123b8": {
          "model_module": "@jupyter-widgets/controls",
          "model_module_version": "1.5.0",
          "model_name": "HTMLModel",
          "state": {
            "_dom_classes": [],
            "_model_module": "@jupyter-widgets/controls",
            "_model_module_version": "1.5.0",
            "_model_name": "HTMLModel",
            "_view_count": null,
            "_view_module": "@jupyter-widgets/controls",
            "_view_module_version": "1.5.0",
            "_view_name": "HTMLView",
            "description": "",
            "description_tooltip": null,
            "layout": "IPY_MODEL_9203a18a4a464d21ad6c3f1ff1a29373",
            "placeholder": "​",
            "style": "IPY_MODEL_e88a4eb0d9204637ba217cbac1997ef5",
            "value": " 2.78M/? [00:00&lt;00:00, 43.6MB/s]"
          }
        },
        "3189c1101054465c937d0c6a58109573": {
          "model_module": "@jupyter-widgets/controls",
          "model_module_version": "1.5.0",
          "model_name": "HTMLModel",
          "state": {
            "_dom_classes": [],
            "_model_module": "@jupyter-widgets/controls",
            "_model_module_version": "1.5.0",
            "_model_name": "HTMLModel",
            "_view_count": null,
            "_view_module": "@jupyter-widgets/controls",
            "_view_module_version": "1.5.0",
            "_view_name": "HTMLView",
            "description": "",
            "description_tooltip": null,
            "layout": "IPY_MODEL_60464aa473504abfbff301836ec3cadf",
            "placeholder": "​",
            "style": "IPY_MODEL_1f23a3968e4240df82efd08a92cee433",
            "value": " 1.29k/? [00:00&lt;00:00, 42.2kB/s]"
          }
        },
        "357f6051925043d5bfb3a7aa24c8d6b2": {
          "model_module": "@jupyter-widgets/controls",
          "model_module_version": "1.5.0",
          "model_name": "DescriptionStyleModel",
          "state": {
            "_model_module": "@jupyter-widgets/controls",
            "_model_module_version": "1.5.0",
            "_model_name": "DescriptionStyleModel",
            "_view_count": null,
            "_view_module": "@jupyter-widgets/base",
            "_view_module_version": "1.2.0",
            "_view_name": "StyleView",
            "description_width": ""
          }
        },
        "38d80d82abe44aa2bf773914759601bb": {
          "model_module": "@jupyter-widgets/controls",
          "model_module_version": "1.5.0",
          "model_name": "HBoxModel",
          "state": {
            "_dom_classes": [],
            "_model_module": "@jupyter-widgets/controls",
            "_model_module_version": "1.5.0",
            "_model_name": "HBoxModel",
            "_view_count": null,
            "_view_module": "@jupyter-widgets/controls",
            "_view_module_version": "1.5.0",
            "_view_name": "HBoxView",
            "box_style": "",
            "children": [
              "IPY_MODEL_51bd8e538f3042bebd86446099d052d6",
              "IPY_MODEL_56affc82e4514096b6cd5630bdf01984",
              "IPY_MODEL_eda50b0b8dfd46508fba42ef2b17cc4b"
            ],
            "layout": "IPY_MODEL_86ae6d4ce5514be9a88ccce6fb0ea38c"
          }
        },
        "3a45a40f35c140f9b0bce45a5f910196": {
          "model_module": "@jupyter-widgets/controls",
          "model_module_version": "1.5.0",
          "model_name": "DescriptionStyleModel",
          "state": {
            "_model_module": "@jupyter-widgets/controls",
            "_model_module_version": "1.5.0",
            "_model_name": "DescriptionStyleModel",
            "_view_count": null,
            "_view_module": "@jupyter-widgets/base",
            "_view_module_version": "1.2.0",
            "_view_name": "StyleView",
            "description_width": ""
          }
        },
        "42fa6e89dd7b4be2b2e87931977c0945": {
          "model_module": "@jupyter-widgets/base",
          "model_module_version": "1.2.0",
          "model_name": "LayoutModel",
          "state": {
            "_model_module": "@jupyter-widgets/base",
            "_model_module_version": "1.2.0",
            "_model_name": "LayoutModel",
            "_view_count": null,
            "_view_module": "@jupyter-widgets/base",
            "_view_module_version": "1.2.0",
            "_view_name": "LayoutView",
            "align_content": null,
            "align_items": null,
            "align_self": null,
            "border": null,
            "bottom": null,
            "display": null,
            "flex": null,
            "flex_flow": null,
            "grid_area": null,
            "grid_auto_columns": null,
            "grid_auto_flow": null,
            "grid_auto_rows": null,
            "grid_column": null,
            "grid_gap": null,
            "grid_row": null,
            "grid_template_areas": null,
            "grid_template_columns": null,
            "grid_template_rows": null,
            "height": null,
            "justify_content": null,
            "justify_items": null,
            "left": null,
            "margin": null,
            "max_height": null,
            "max_width": null,
            "min_height": null,
            "min_width": null,
            "object_fit": null,
            "object_position": null,
            "order": null,
            "overflow": null,
            "overflow_x": null,
            "overflow_y": null,
            "padding": null,
            "right": null,
            "top": null,
            "visibility": null,
            "width": null
          }
        },
        "46c630bcb1314e6a8be9d80fce9f3dfb": {
          "model_module": "@jupyter-widgets/base",
          "model_module_version": "1.2.0",
          "model_name": "LayoutModel",
          "state": {
            "_model_module": "@jupyter-widgets/base",
            "_model_module_version": "1.2.0",
            "_model_name": "LayoutModel",
            "_view_count": null,
            "_view_module": "@jupyter-widgets/base",
            "_view_module_version": "1.2.0",
            "_view_name": "LayoutView",
            "align_content": null,
            "align_items": null,
            "align_self": null,
            "border": null,
            "bottom": null,
            "display": null,
            "flex": null,
            "flex_flow": null,
            "grid_area": null,
            "grid_auto_columns": null,
            "grid_auto_flow": null,
            "grid_auto_rows": null,
            "grid_column": null,
            "grid_gap": null,
            "grid_row": null,
            "grid_template_areas": null,
            "grid_template_columns": null,
            "grid_template_rows": null,
            "height": null,
            "justify_content": null,
            "justify_items": null,
            "left": null,
            "margin": null,
            "max_height": null,
            "max_width": null,
            "min_height": null,
            "min_width": null,
            "object_fit": null,
            "object_position": null,
            "order": null,
            "overflow": null,
            "overflow_x": null,
            "overflow_y": null,
            "padding": null,
            "right": null,
            "top": null,
            "visibility": null,
            "width": null
          }
        },
        "473dd9dc973049c59db551d65f420b73": {
          "model_module": "@jupyter-widgets/base",
          "model_module_version": "1.2.0",
          "model_name": "LayoutModel",
          "state": {
            "_model_module": "@jupyter-widgets/base",
            "_model_module_version": "1.2.0",
            "_model_name": "LayoutModel",
            "_view_count": null,
            "_view_module": "@jupyter-widgets/base",
            "_view_module_version": "1.2.0",
            "_view_name": "LayoutView",
            "align_content": null,
            "align_items": null,
            "align_self": null,
            "border": null,
            "bottom": null,
            "display": null,
            "flex": null,
            "flex_flow": null,
            "grid_area": null,
            "grid_auto_columns": null,
            "grid_auto_flow": null,
            "grid_auto_rows": null,
            "grid_column": null,
            "grid_gap": null,
            "grid_row": null,
            "grid_template_areas": null,
            "grid_template_columns": null,
            "grid_template_rows": null,
            "height": null,
            "justify_content": null,
            "justify_items": null,
            "left": null,
            "margin": null,
            "max_height": null,
            "max_width": null,
            "min_height": null,
            "min_width": null,
            "object_fit": null,
            "object_position": null,
            "order": null,
            "overflow": null,
            "overflow_x": null,
            "overflow_y": null,
            "padding": null,
            "right": null,
            "top": null,
            "visibility": null,
            "width": "20px"
          }
        },
        "51bd8e538f3042bebd86446099d052d6": {
          "model_module": "@jupyter-widgets/controls",
          "model_module_version": "1.5.0",
          "model_name": "HTMLModel",
          "state": {
            "_dom_classes": [],
            "_model_module": "@jupyter-widgets/controls",
            "_model_module_version": "1.5.0",
            "_model_name": "HTMLModel",
            "_view_count": null,
            "_view_module": "@jupyter-widgets/controls",
            "_view_module_version": "1.5.0",
            "_view_name": "HTMLView",
            "description": "",
            "description_tooltip": null,
            "layout": "IPY_MODEL_eb8ba79f30ce4bd2aebc0664805339bb",
            "placeholder": "​",
            "style": "IPY_MODEL_c8093a219a3d43a3b258b5da35dd4f73",
            "value": "generation_config.json: 100%"
          }
        },
        "53c4c65cf3ed4cc3986e2b4cc2644450": {
          "model_module": "@jupyter-widgets/controls",
          "model_module_version": "1.5.0",
          "model_name": "HTMLModel",
          "state": {
            "_dom_classes": [],
            "_model_module": "@jupyter-widgets/controls",
            "_model_module_version": "1.5.0",
            "_model_name": "HTMLModel",
            "_view_count": null,
            "_view_module": "@jupyter-widgets/controls",
            "_view_module_version": "1.5.0",
            "_view_name": "HTMLView",
            "description": "",
            "description_tooltip": null,
            "layout": "IPY_MODEL_e329126332c84b0a965c2902bf9916c6",
            "placeholder": "​",
            "style": "IPY_MODEL_bfc50b3907bf44c78e63194c2fec9824",
            "value": " 3.67G/3.67G [02:19&lt;00:00, 15.7MB/s]"
          }
        },
        "54bcbfb67fab45f1bb9bb2fd0d5e3d6a": {
          "model_module": "@jupyter-widgets/controls",
          "model_module_version": "1.5.0",
          "model_name": "HTMLModel",
          "state": {
            "_dom_classes": [],
            "_model_module": "@jupyter-widgets/controls",
            "_model_module_version": "1.5.0",
            "_model_name": "HTMLModel",
            "_view_count": null,
            "_view_module": "@jupyter-widgets/controls",
            "_view_module_version": "1.5.0",
            "_view_name": "HTMLView",
            "description": "",
            "description_tooltip": null,
            "layout": "IPY_MODEL_14db8ebe9ee641afb0835a8d2f935c71",
            "placeholder": "​",
            "style": "IPY_MODEL_b894d8387c8a44c9871fc67639f39729",
            "value": "config.json: 100%"
          }
        },
        "56affc82e4514096b6cd5630bdf01984": {
          "model_module": "@jupyter-widgets/controls",
          "model_module_version": "1.5.0",
          "model_name": "FloatProgressModel",
          "state": {
            "_dom_classes": [],
            "_model_module": "@jupyter-widgets/controls",
            "_model_module_version": "1.5.0",
            "_model_name": "FloatProgressModel",
            "_view_count": null,
            "_view_module": "@jupyter-widgets/controls",
            "_view_module_version": "1.5.0",
            "_view_name": "ProgressView",
            "bar_style": "success",
            "description": "",
            "description_tooltip": null,
            "layout": "IPY_MODEL_2688b9627a48419caa7b8e52c1674a7c",
            "max": 206,
            "min": 0,
            "orientation": "horizontal",
            "style": "IPY_MODEL_7c173625873b441ca8a7fd3913fe4ce1",
            "value": 206
          }
        },
        "588fe9dbb4f1443984b92fe922243486": {
          "model_module": "@jupyter-widgets/base",
          "model_module_version": "1.2.0",
          "model_name": "LayoutModel",
          "state": {
            "_model_module": "@jupyter-widgets/base",
            "_model_module_version": "1.2.0",
            "_model_name": "LayoutModel",
            "_view_count": null,
            "_view_module": "@jupyter-widgets/base",
            "_view_module_version": "1.2.0",
            "_view_name": "LayoutView",
            "align_content": null,
            "align_items": null,
            "align_self": null,
            "border": null,
            "bottom": null,
            "display": null,
            "flex": null,
            "flex_flow": null,
            "grid_area": null,
            "grid_auto_columns": null,
            "grid_auto_flow": null,
            "grid_auto_rows": null,
            "grid_column": null,
            "grid_gap": null,
            "grid_row": null,
            "grid_template_areas": null,
            "grid_template_columns": null,
            "grid_template_rows": null,
            "height": null,
            "justify_content": null,
            "justify_items": null,
            "left": null,
            "margin": null,
            "max_height": null,
            "max_width": null,
            "min_height": null,
            "min_width": null,
            "object_fit": null,
            "object_position": null,
            "order": null,
            "overflow": null,
            "overflow_x": null,
            "overflow_y": null,
            "padding": null,
            "right": null,
            "top": null,
            "visibility": null,
            "width": null
          }
        },
        "5ca26e5e3209400c9c2f60844e0a9450": {
          "model_module": "@jupyter-widgets/controls",
          "model_module_version": "1.5.0",
          "model_name": "FloatProgressModel",
          "state": {
            "_dom_classes": [],
            "_model_module": "@jupyter-widgets/controls",
            "_model_module_version": "1.5.0",
            "_model_name": "FloatProgressModel",
            "_view_count": null,
            "_view_module": "@jupyter-widgets/controls",
            "_view_module_version": "1.5.0",
            "_view_name": "ProgressView",
            "bar_style": "success",
            "description": "",
            "description_tooltip": null,
            "layout": "IPY_MODEL_473dd9dc973049c59db551d65f420b73",
            "max": 1,
            "min": 0,
            "orientation": "horizontal",
            "style": "IPY_MODEL_e7d10d1058c545919a5a3280a430edb4",
            "value": 1
          }
        },
        "5f1fa0e7ddde414ca275761238d78969": {
          "model_module": "@jupyter-widgets/controls",
          "model_module_version": "1.5.0",
          "model_name": "HTMLModel",
          "state": {
            "_dom_classes": [],
            "_model_module": "@jupyter-widgets/controls",
            "_model_module_version": "1.5.0",
            "_model_name": "HTMLModel",
            "_view_count": null,
            "_view_module": "@jupyter-widgets/controls",
            "_view_module_version": "1.5.0",
            "_view_name": "HTMLView",
            "description": "",
            "description_tooltip": null,
            "layout": "IPY_MODEL_b1f92c87a332463cbd9a95896d67bd71",
            "placeholder": "​",
            "style": "IPY_MODEL_357f6051925043d5bfb3a7aa24c8d6b2",
            "value": "tokenizer_config.json: "
          }
        },
        "60464aa473504abfbff301836ec3cadf": {
          "model_module": "@jupyter-widgets/base",
          "model_module_version": "1.2.0",
          "model_name": "LayoutModel",
          "state": {
            "_model_module": "@jupyter-widgets/base",
            "_model_module_version": "1.2.0",
            "_model_name": "LayoutModel",
            "_view_count": null,
            "_view_module": "@jupyter-widgets/base",
            "_view_module_version": "1.2.0",
            "_view_name": "LayoutView",
            "align_content": null,
            "align_items": null,
            "align_self": null,
            "border": null,
            "bottom": null,
            "display": null,
            "flex": null,
            "flex_flow": null,
            "grid_area": null,
            "grid_auto_columns": null,
            "grid_auto_flow": null,
            "grid_auto_rows": null,
            "grid_column": null,
            "grid_gap": null,
            "grid_row": null,
            "grid_template_areas": null,
            "grid_template_columns": null,
            "grid_template_rows": null,
            "height": null,
            "justify_content": null,
            "justify_items": null,
            "left": null,
            "margin": null,
            "max_height": null,
            "max_width": null,
            "min_height": null,
            "min_width": null,
            "object_fit": null,
            "object_position": null,
            "order": null,
            "overflow": null,
            "overflow_x": null,
            "overflow_y": null,
            "padding": null,
            "right": null,
            "top": null,
            "visibility": null,
            "width": null
          }
        },
        "65c307fc6a1e4a19a88b538e9a01b22c": {
          "model_module": "@jupyter-widgets/controls",
          "model_module_version": "1.5.0",
          "model_name": "ProgressStyleModel",
          "state": {
            "_model_module": "@jupyter-widgets/controls",
            "_model_module_version": "1.5.0",
            "_model_name": "ProgressStyleModel",
            "_view_count": null,
            "_view_module": "@jupyter-widgets/base",
            "_view_module_version": "1.2.0",
            "_view_name": "StyleView",
            "bar_color": null,
            "description_width": ""
          }
        },
        "6886fac566c34dc9b728ee0194121d40": {
          "model_module": "@jupyter-widgets/controls",
          "model_module_version": "1.5.0",
          "model_name": "FloatProgressModel",
          "state": {
            "_dom_classes": [],
            "_model_module": "@jupyter-widgets/controls",
            "_model_module_version": "1.5.0",
            "_model_name": "FloatProgressModel",
            "_view_count": null,
            "_view_module": "@jupyter-widgets/controls",
            "_view_module_version": "1.5.0",
            "_view_name": "ProgressView",
            "bar_style": "success",
            "description": "",
            "description_tooltip": null,
            "layout": "IPY_MODEL_1d4fa8d04bd3482db4edb7eb08944fb9",
            "max": 1,
            "min": 0,
            "orientation": "horizontal",
            "style": "IPY_MODEL_1c4657820c1d42deba727563599ccf00",
            "value": 1
          }
        },
        "6f668a5cb1384e53b55d29a8788611b4": {
          "model_module": "@jupyter-widgets/controls",
          "model_module_version": "1.5.0",
          "model_name": "ProgressStyleModel",
          "state": {
            "_model_module": "@jupyter-widgets/controls",
            "_model_module_version": "1.5.0",
            "_model_name": "ProgressStyleModel",
            "_view_count": null,
            "_view_module": "@jupyter-widgets/base",
            "_view_module_version": "1.2.0",
            "_view_name": "StyleView",
            "bar_color": null,
            "description_width": ""
          }
        },
        "7130cb82a9284b8bb2889c9eb72ed1b2": {
          "model_module": "@jupyter-widgets/controls",
          "model_module_version": "1.5.0",
          "model_name": "HBoxModel",
          "state": {
            "_dom_classes": [],
            "_model_module": "@jupyter-widgets/controls",
            "_model_module_version": "1.5.0",
            "_model_name": "HBoxModel",
            "_view_count": null,
            "_view_module": "@jupyter-widgets/controls",
            "_view_module_version": "1.5.0",
            "_view_name": "HBoxView",
            "box_style": "",
            "children": [
              "IPY_MODEL_767386dea3094c9c873d735b265d9ddc",
              "IPY_MODEL_fd8b6e53e4ae42d1b93956ebe7868a8e",
              "IPY_MODEL_2fb3cf08e3374162aaf1b4cf14c123b8"
            ],
            "layout": "IPY_MODEL_42fa6e89dd7b4be2b2e87931977c0945"
          }
        },
        "767386dea3094c9c873d735b265d9ddc": {
          "model_module": "@jupyter-widgets/controls",
          "model_module_version": "1.5.0",
          "model_name": "HTMLModel",
          "state": {
            "_dom_classes": [],
            "_model_module": "@jupyter-widgets/controls",
            "_model_module_version": "1.5.0",
            "_model_name": "HTMLModel",
            "_view_count": null,
            "_view_module": "@jupyter-widgets/controls",
            "_view_module_version": "1.5.0",
            "_view_name": "HTMLView",
            "description": "",
            "description_tooltip": null,
            "layout": "IPY_MODEL_588fe9dbb4f1443984b92fe922243486",
            "placeholder": "​",
            "style": "IPY_MODEL_3a45a40f35c140f9b0bce45a5f910196",
            "value": "vocab.json: "
          }
        },
        "7c173625873b441ca8a7fd3913fe4ce1": {
          "model_module": "@jupyter-widgets/controls",
          "model_module_version": "1.5.0",
          "model_name": "ProgressStyleModel",
          "state": {
            "_model_module": "@jupyter-widgets/controls",
            "_model_module_version": "1.5.0",
            "_model_name": "ProgressStyleModel",
            "_view_count": null,
            "_view_module": "@jupyter-widgets/base",
            "_view_module_version": "1.2.0",
            "_view_name": "StyleView",
            "bar_color": null,
            "description_width": ""
          }
        },
        "7c287082928f41bf91da0ec36ff19b00": {
          "model_module": "@jupyter-widgets/base",
          "model_module_version": "1.2.0",
          "model_name": "LayoutModel",
          "state": {
            "_model_module": "@jupyter-widgets/base",
            "_model_module_version": "1.2.0",
            "_model_name": "LayoutModel",
            "_view_count": null,
            "_view_module": "@jupyter-widgets/base",
            "_view_module_version": "1.2.0",
            "_view_name": "LayoutView",
            "align_content": null,
            "align_items": null,
            "align_self": null,
            "border": null,
            "bottom": null,
            "display": null,
            "flex": null,
            "flex_flow": null,
            "grid_area": null,
            "grid_auto_columns": null,
            "grid_auto_flow": null,
            "grid_auto_rows": null,
            "grid_column": null,
            "grid_gap": null,
            "grid_row": null,
            "grid_template_areas": null,
            "grid_template_columns": null,
            "grid_template_rows": null,
            "height": null,
            "justify_content": null,
            "justify_items": null,
            "left": null,
            "margin": null,
            "max_height": null,
            "max_width": null,
            "min_height": null,
            "min_width": null,
            "object_fit": null,
            "object_position": null,
            "order": null,
            "overflow": null,
            "overflow_x": null,
            "overflow_y": null,
            "padding": null,
            "right": null,
            "top": null,
            "visibility": null,
            "width": null
          }
        },
        "7d32c361e72d4fa3a1c3d026a06f5418": {
          "model_module": "@jupyter-widgets/base",
          "model_module_version": "1.2.0",
          "model_name": "LayoutModel",
          "state": {
            "_model_module": "@jupyter-widgets/base",
            "_model_module_version": "1.2.0",
            "_model_name": "LayoutModel",
            "_view_count": null,
            "_view_module": "@jupyter-widgets/base",
            "_view_module_version": "1.2.0",
            "_view_name": "LayoutView",
            "align_content": null,
            "align_items": null,
            "align_self": null,
            "border": null,
            "bottom": null,
            "display": null,
            "flex": null,
            "flex_flow": null,
            "grid_area": null,
            "grid_auto_columns": null,
            "grid_auto_flow": null,
            "grid_auto_rows": null,
            "grid_column": null,
            "grid_gap": null,
            "grid_row": null,
            "grid_template_areas": null,
            "grid_template_columns": null,
            "grid_template_rows": null,
            "height": null,
            "justify_content": null,
            "justify_items": null,
            "left": null,
            "margin": null,
            "max_height": null,
            "max_width": null,
            "min_height": null,
            "min_width": null,
            "object_fit": null,
            "object_position": null,
            "order": null,
            "overflow": null,
            "overflow_x": null,
            "overflow_y": null,
            "padding": null,
            "right": null,
            "top": null,
            "visibility": null,
            "width": null
          }
        },
        "817c871077764e1bb11bf8df7a57420e": {
          "model_module": "@jupyter-widgets/base",
          "model_module_version": "1.2.0",
          "model_name": "LayoutModel",
          "state": {
            "_model_module": "@jupyter-widgets/base",
            "_model_module_version": "1.2.0",
            "_model_name": "LayoutModel",
            "_view_count": null,
            "_view_module": "@jupyter-widgets/base",
            "_view_module_version": "1.2.0",
            "_view_name": "LayoutView",
            "align_content": null,
            "align_items": null,
            "align_self": null,
            "border": null,
            "bottom": null,
            "display": null,
            "flex": null,
            "flex_flow": null,
            "grid_area": null,
            "grid_auto_columns": null,
            "grid_auto_flow": null,
            "grid_auto_rows": null,
            "grid_column": null,
            "grid_gap": null,
            "grid_row": null,
            "grid_template_areas": null,
            "grid_template_columns": null,
            "grid_template_rows": null,
            "height": null,
            "justify_content": null,
            "justify_items": null,
            "left": null,
            "margin": null,
            "max_height": null,
            "max_width": null,
            "min_height": null,
            "min_width": null,
            "object_fit": null,
            "object_position": null,
            "order": null,
            "overflow": null,
            "overflow_x": null,
            "overflow_y": null,
            "padding": null,
            "right": null,
            "top": null,
            "visibility": null,
            "width": null
          }
        },
        "82ffd510d56f45dbb6b46b70cccefe73": {
          "model_module": "@jupyter-widgets/base",
          "model_module_version": "1.2.0",
          "model_name": "LayoutModel",
          "state": {
            "_model_module": "@jupyter-widgets/base",
            "_model_module_version": "1.2.0",
            "_model_name": "LayoutModel",
            "_view_count": null,
            "_view_module": "@jupyter-widgets/base",
            "_view_module_version": "1.2.0",
            "_view_name": "LayoutView",
            "align_content": null,
            "align_items": null,
            "align_self": null,
            "border": null,
            "bottom": null,
            "display": null,
            "flex": null,
            "flex_flow": null,
            "grid_area": null,
            "grid_auto_columns": null,
            "grid_auto_flow": null,
            "grid_auto_rows": null,
            "grid_column": null,
            "grid_gap": null,
            "grid_row": null,
            "grid_template_areas": null,
            "grid_template_columns": null,
            "grid_template_rows": null,
            "height": null,
            "justify_content": null,
            "justify_items": null,
            "left": null,
            "margin": null,
            "max_height": null,
            "max_width": null,
            "min_height": null,
            "min_width": null,
            "object_fit": null,
            "object_position": null,
            "order": null,
            "overflow": null,
            "overflow_x": null,
            "overflow_y": null,
            "padding": null,
            "right": null,
            "top": null,
            "visibility": null,
            "width": null
          }
        },
        "83ccd5a39e604a87a8adac8d30d2f0a0": {
          "model_module": "@jupyter-widgets/controls",
          "model_module_version": "1.5.0",
          "model_name": "FloatProgressModel",
          "state": {
            "_dom_classes": [],
            "_model_module": "@jupyter-widgets/controls",
            "_model_module_version": "1.5.0",
            "_model_name": "FloatProgressModel",
            "_view_count": null,
            "_view_module": "@jupyter-widgets/controls",
            "_view_module_version": "1.5.0",
            "_view_name": "ProgressView",
            "bar_style": "success",
            "description": "",
            "description_tooltip": null,
            "layout": "IPY_MODEL_b4a57b2c73d74d84a2b29d98b09def3c",
            "max": 1,
            "min": 0,
            "orientation": "horizontal",
            "style": "IPY_MODEL_b2741e2f3bfc4ab0bc57442475aad551",
            "value": 1
          }
        },
        "86ae6d4ce5514be9a88ccce6fb0ea38c": {
          "model_module": "@jupyter-widgets/base",
          "model_module_version": "1.2.0",
          "model_name": "LayoutModel",
          "state": {
            "_model_module": "@jupyter-widgets/base",
            "_model_module_version": "1.2.0",
            "_model_name": "LayoutModel",
            "_view_count": null,
            "_view_module": "@jupyter-widgets/base",
            "_view_module_version": "1.2.0",
            "_view_name": "LayoutView",
            "align_content": null,
            "align_items": null,
            "align_self": null,
            "border": null,
            "bottom": null,
            "display": null,
            "flex": null,
            "flex_flow": null,
            "grid_area": null,
            "grid_auto_columns": null,
            "grid_auto_flow": null,
            "grid_auto_rows": null,
            "grid_column": null,
            "grid_gap": null,
            "grid_row": null,
            "grid_template_areas": null,
            "grid_template_columns": null,
            "grid_template_rows": null,
            "height": null,
            "justify_content": null,
            "justify_items": null,
            "left": null,
            "margin": null,
            "max_height": null,
            "max_width": null,
            "min_height": null,
            "min_width": null,
            "object_fit": null,
            "object_position": null,
            "order": null,
            "overflow": null,
            "overflow_x": null,
            "overflow_y": null,
            "padding": null,
            "right": null,
            "top": null,
            "visibility": null,
            "width": null
          }
        },
        "890acdfee4ee4cf891b28868519903c2": {
          "model_module": "@jupyter-widgets/base",
          "model_module_version": "1.2.0",
          "model_name": "LayoutModel",
          "state": {
            "_model_module": "@jupyter-widgets/base",
            "_model_module_version": "1.2.0",
            "_model_name": "LayoutModel",
            "_view_count": null,
            "_view_module": "@jupyter-widgets/base",
            "_view_module_version": "1.2.0",
            "_view_name": "LayoutView",
            "align_content": null,
            "align_items": null,
            "align_self": null,
            "border": null,
            "bottom": null,
            "display": null,
            "flex": null,
            "flex_flow": null,
            "grid_area": null,
            "grid_auto_columns": null,
            "grid_auto_flow": null,
            "grid_auto_rows": null,
            "grid_column": null,
            "grid_gap": null,
            "grid_row": null,
            "grid_template_areas": null,
            "grid_template_columns": null,
            "grid_template_rows": null,
            "height": null,
            "justify_content": null,
            "justify_items": null,
            "left": null,
            "margin": null,
            "max_height": null,
            "max_width": null,
            "min_height": null,
            "min_width": null,
            "object_fit": null,
            "object_position": null,
            "order": null,
            "overflow": null,
            "overflow_x": null,
            "overflow_y": null,
            "padding": null,
            "right": null,
            "top": null,
            "visibility": null,
            "width": null
          }
        },
        "8bf110c62c3c47498f506d74ea2d0872": {
          "model_module": "@jupyter-widgets/controls",
          "model_module_version": "1.5.0",
          "model_name": "DescriptionStyleModel",
          "state": {
            "_model_module": "@jupyter-widgets/controls",
            "_model_module_version": "1.5.0",
            "_model_name": "DescriptionStyleModel",
            "_view_count": null,
            "_view_module": "@jupyter-widgets/base",
            "_view_module_version": "1.2.0",
            "_view_name": "StyleView",
            "description_width": ""
          }
        },
        "91421c8061d8442e8bccfe15af16fb2d": {
          "model_module": "@jupyter-widgets/controls",
          "model_module_version": "1.5.0",
          "model_name": "HTMLModel",
          "state": {
            "_dom_classes": [],
            "_model_module": "@jupyter-widgets/controls",
            "_model_module_version": "1.5.0",
            "_model_name": "HTMLModel",
            "_view_count": null,
            "_view_module": "@jupyter-widgets/controls",
            "_view_module_version": "1.5.0",
            "_view_name": "HTMLView",
            "description": "",
            "description_tooltip": null,
            "layout": "IPY_MODEL_247676a7ad304760ae135efdda832857",
            "placeholder": "​",
            "style": "IPY_MODEL_e4e9be1b55e14ea6a2b9f10fa013259f",
            "value": "merges.txt: "
          }
        },
        "9203a18a4a464d21ad6c3f1ff1a29373": {
          "model_module": "@jupyter-widgets/base",
          "model_module_version": "1.2.0",
          "model_name": "LayoutModel",
          "state": {
            "_model_module": "@jupyter-widgets/base",
            "_model_module_version": "1.2.0",
            "_model_name": "LayoutModel",
            "_view_count": null,
            "_view_module": "@jupyter-widgets/base",
            "_view_module_version": "1.2.0",
            "_view_name": "LayoutView",
            "align_content": null,
            "align_items": null,
            "align_self": null,
            "border": null,
            "bottom": null,
            "display": null,
            "flex": null,
            "flex_flow": null,
            "grid_area": null,
            "grid_auto_columns": null,
            "grid_auto_flow": null,
            "grid_auto_rows": null,
            "grid_column": null,
            "grid_gap": null,
            "grid_row": null,
            "grid_template_areas": null,
            "grid_template_columns": null,
            "grid_template_rows": null,
            "height": null,
            "justify_content": null,
            "justify_items": null,
            "left": null,
            "margin": null,
            "max_height": null,
            "max_width": null,
            "min_height": null,
            "min_width": null,
            "object_fit": null,
            "object_position": null,
            "order": null,
            "overflow": null,
            "overflow_x": null,
            "overflow_y": null,
            "padding": null,
            "right": null,
            "top": null,
            "visibility": null,
            "width": null
          }
        },
        "a2a128bb5f4a4affa61b892465f3d96c": {
          "model_module": "@jupyter-widgets/controls",
          "model_module_version": "1.5.0",
          "model_name": "ProgressStyleModel",
          "state": {
            "_model_module": "@jupyter-widgets/controls",
            "_model_module_version": "1.5.0",
            "_model_name": "ProgressStyleModel",
            "_view_count": null,
            "_view_module": "@jupyter-widgets/base",
            "_view_module_version": "1.2.0",
            "_view_name": "StyleView",
            "bar_color": null,
            "description_width": ""
          }
        },
        "a34301c2fced4c0296913b9c11d4c289": {
          "model_module": "@jupyter-widgets/controls",
          "model_module_version": "1.5.0",
          "model_name": "HBoxModel",
          "state": {
            "_dom_classes": [],
            "_model_module": "@jupyter-widgets/controls",
            "_model_module_version": "1.5.0",
            "_model_name": "HBoxModel",
            "_view_count": null,
            "_view_module": "@jupyter-widgets/controls",
            "_view_module_version": "1.5.0",
            "_view_name": "HBoxView",
            "box_style": "",
            "children": [
              "IPY_MODEL_5f1fa0e7ddde414ca275761238d78969",
              "IPY_MODEL_83ccd5a39e604a87a8adac8d30d2f0a0",
              "IPY_MODEL_3189c1101054465c937d0c6a58109573"
            ],
            "layout": "IPY_MODEL_f9d9d1c520c4470d885f7e705f42ef4a"
          }
        },
        "ab72b83696764b4099594f3c37ddb9a1": {
          "model_module": "@jupyter-widgets/base",
          "model_module_version": "1.2.0",
          "model_name": "LayoutModel",
          "state": {
            "_model_module": "@jupyter-widgets/base",
            "_model_module_version": "1.2.0",
            "_model_name": "LayoutModel",
            "_view_count": null,
            "_view_module": "@jupyter-widgets/base",
            "_view_module_version": "1.2.0",
            "_view_name": "LayoutView",
            "align_content": null,
            "align_items": null,
            "align_self": null,
            "border": null,
            "bottom": null,
            "display": null,
            "flex": null,
            "flex_flow": null,
            "grid_area": null,
            "grid_auto_columns": null,
            "grid_auto_flow": null,
            "grid_auto_rows": null,
            "grid_column": null,
            "grid_gap": null,
            "grid_row": null,
            "grid_template_areas": null,
            "grid_template_columns": null,
            "grid_template_rows": null,
            "height": null,
            "justify_content": null,
            "justify_items": null,
            "left": null,
            "margin": null,
            "max_height": null,
            "max_width": null,
            "min_height": null,
            "min_width": null,
            "object_fit": null,
            "object_position": null,
            "order": null,
            "overflow": null,
            "overflow_x": null,
            "overflow_y": null,
            "padding": null,
            "right": null,
            "top": null,
            "visibility": null,
            "width": "20px"
          }
        },
        "adcb40c50b264ae0a39c4487347134de": {
          "model_module": "@jupyter-widgets/base",
          "model_module_version": "1.2.0",
          "model_name": "LayoutModel",
          "state": {
            "_model_module": "@jupyter-widgets/base",
            "_model_module_version": "1.2.0",
            "_model_name": "LayoutModel",
            "_view_count": null,
            "_view_module": "@jupyter-widgets/base",
            "_view_module_version": "1.2.0",
            "_view_name": "LayoutView",
            "align_content": null,
            "align_items": null,
            "align_self": null,
            "border": null,
            "bottom": null,
            "display": null,
            "flex": null,
            "flex_flow": null,
            "grid_area": null,
            "grid_auto_columns": null,
            "grid_auto_flow": null,
            "grid_auto_rows": null,
            "grid_column": null,
            "grid_gap": null,
            "grid_row": null,
            "grid_template_areas": null,
            "grid_template_columns": null,
            "grid_template_rows": null,
            "height": null,
            "justify_content": null,
            "justify_items": null,
            "left": null,
            "margin": null,
            "max_height": null,
            "max_width": null,
            "min_height": null,
            "min_width": null,
            "object_fit": null,
            "object_position": null,
            "order": null,
            "overflow": null,
            "overflow_x": null,
            "overflow_y": null,
            "padding": null,
            "right": null,
            "top": null,
            "visibility": null,
            "width": null
          }
        },
        "b1a7e4c1d04d44baa979811b1749f187": {
          "model_module": "@jupyter-widgets/controls",
          "model_module_version": "1.5.0",
          "model_name": "DescriptionStyleModel",
          "state": {
            "_model_module": "@jupyter-widgets/controls",
            "_model_module_version": "1.5.0",
            "_model_name": "DescriptionStyleModel",
            "_view_count": null,
            "_view_module": "@jupyter-widgets/base",
            "_view_module_version": "1.2.0",
            "_view_name": "StyleView",
            "description_width": ""
          }
        },
        "b1f92c87a332463cbd9a95896d67bd71": {
          "model_module": "@jupyter-widgets/base",
          "model_module_version": "1.2.0",
          "model_name": "LayoutModel",
          "state": {
            "_model_module": "@jupyter-widgets/base",
            "_model_module_version": "1.2.0",
            "_model_name": "LayoutModel",
            "_view_count": null,
            "_view_module": "@jupyter-widgets/base",
            "_view_module_version": "1.2.0",
            "_view_name": "LayoutView",
            "align_content": null,
            "align_items": null,
            "align_self": null,
            "border": null,
            "bottom": null,
            "display": null,
            "flex": null,
            "flex_flow": null,
            "grid_area": null,
            "grid_auto_columns": null,
            "grid_auto_flow": null,
            "grid_auto_rows": null,
            "grid_column": null,
            "grid_gap": null,
            "grid_row": null,
            "grid_template_areas": null,
            "grid_template_columns": null,
            "grid_template_rows": null,
            "height": null,
            "justify_content": null,
            "justify_items": null,
            "left": null,
            "margin": null,
            "max_height": null,
            "max_width": null,
            "min_height": null,
            "min_width": null,
            "object_fit": null,
            "object_position": null,
            "order": null,
            "overflow": null,
            "overflow_x": null,
            "overflow_y": null,
            "padding": null,
            "right": null,
            "top": null,
            "visibility": null,
            "width": null
          }
        },
        "b2741e2f3bfc4ab0bc57442475aad551": {
          "model_module": "@jupyter-widgets/controls",
          "model_module_version": "1.5.0",
          "model_name": "ProgressStyleModel",
          "state": {
            "_model_module": "@jupyter-widgets/controls",
            "_model_module_version": "1.5.0",
            "_model_name": "ProgressStyleModel",
            "_view_count": null,
            "_view_module": "@jupyter-widgets/base",
            "_view_module_version": "1.2.0",
            "_view_name": "StyleView",
            "bar_color": null,
            "description_width": ""
          }
        },
        "b4a57b2c73d74d84a2b29d98b09def3c": {
          "model_module": "@jupyter-widgets/base",
          "model_module_version": "1.2.0",
          "model_name": "LayoutModel",
          "state": {
            "_model_module": "@jupyter-widgets/base",
            "_model_module_version": "1.2.0",
            "_model_name": "LayoutModel",
            "_view_count": null,
            "_view_module": "@jupyter-widgets/base",
            "_view_module_version": "1.2.0",
            "_view_name": "LayoutView",
            "align_content": null,
            "align_items": null,
            "align_self": null,
            "border": null,
            "bottom": null,
            "display": null,
            "flex": null,
            "flex_flow": null,
            "grid_area": null,
            "grid_auto_columns": null,
            "grid_auto_flow": null,
            "grid_auto_rows": null,
            "grid_column": null,
            "grid_gap": null,
            "grid_row": null,
            "grid_template_areas": null,
            "grid_template_columns": null,
            "grid_template_rows": null,
            "height": null,
            "justify_content": null,
            "justify_items": null,
            "left": null,
            "margin": null,
            "max_height": null,
            "max_width": null,
            "min_height": null,
            "min_width": null,
            "object_fit": null,
            "object_position": null,
            "order": null,
            "overflow": null,
            "overflow_x": null,
            "overflow_y": null,
            "padding": null,
            "right": null,
            "top": null,
            "visibility": null,
            "width": "20px"
          }
        },
        "b6aa5a8b74da4d29b5998e6b90a8b353": {
          "model_module": "@jupyter-widgets/controls",
          "model_module_version": "1.5.0",
          "model_name": "HTMLModel",
          "state": {
            "_dom_classes": [],
            "_model_module": "@jupyter-widgets/controls",
            "_model_module_version": "1.5.0",
            "_model_name": "HTMLModel",
            "_view_count": null,
            "_view_module": "@jupyter-widgets/controls",
            "_view_module_version": "1.5.0",
            "_view_name": "HTMLView",
            "description": "",
            "description_tooltip": null,
            "layout": "IPY_MODEL_adcb40c50b264ae0a39c4487347134de",
            "placeholder": "​",
            "style": "IPY_MODEL_b1a7e4c1d04d44baa979811b1749f187",
            "value": " 7.03M/? [00:00&lt;00:00, 68.6MB/s]"
          }
        },
        "b894d8387c8a44c9871fc67639f39729": {
          "model_module": "@jupyter-widgets/controls",
          "model_module_version": "1.5.0",
          "model_name": "DescriptionStyleModel",
          "state": {
            "_model_module": "@jupyter-widgets/controls",
            "_model_module_version": "1.5.0",
            "_model_name": "DescriptionStyleModel",
            "_view_count": null,
            "_view_module": "@jupyter-widgets/base",
            "_view_module_version": "1.2.0",
            "_view_name": "StyleView",
            "description_width": ""
          }
        },
        "baf9144c0bee44b1973662911e3af58b": {
          "model_module": "@jupyter-widgets/controls",
          "model_module_version": "1.5.0",
          "model_name": "HBoxModel",
          "state": {
            "_dom_classes": [],
            "_model_module": "@jupyter-widgets/controls",
            "_model_module_version": "1.5.0",
            "_model_name": "HBoxModel",
            "_view_count": null,
            "_view_module": "@jupyter-widgets/controls",
            "_view_module_version": "1.5.0",
            "_view_name": "HBoxView",
            "box_style": "",
            "children": [
              "IPY_MODEL_91421c8061d8442e8bccfe15af16fb2d",
              "IPY_MODEL_5ca26e5e3209400c9c2f60844e0a9450",
              "IPY_MODEL_1b89c0336b6e4093aabf63b172eef0aa"
            ],
            "layout": "IPY_MODEL_890acdfee4ee4cf891b28868519903c2"
          }
        },
        "bfc50b3907bf44c78e63194c2fec9824": {
          "model_module": "@jupyter-widgets/controls",
          "model_module_version": "1.5.0",
          "model_name": "DescriptionStyleModel",
          "state": {
            "_model_module": "@jupyter-widgets/controls",
            "_model_module_version": "1.5.0",
            "_model_name": "DescriptionStyleModel",
            "_view_count": null,
            "_view_module": "@jupyter-widgets/base",
            "_view_module_version": "1.2.0",
            "_view_name": "StyleView",
            "description_width": ""
          }
        },
        "c8093a219a3d43a3b258b5da35dd4f73": {
          "model_module": "@jupyter-widgets/controls",
          "model_module_version": "1.5.0",
          "model_name": "DescriptionStyleModel",
          "state": {
            "_model_module": "@jupyter-widgets/controls",
            "_model_module_version": "1.5.0",
            "_model_name": "DescriptionStyleModel",
            "_view_count": null,
            "_view_module": "@jupyter-widgets/base",
            "_view_module_version": "1.2.0",
            "_view_name": "StyleView",
            "description_width": ""
          }
        },
        "ca46fbfc80fb43ca960f58122c6a6d9a": {
          "model_module": "@jupyter-widgets/controls",
          "model_module_version": "1.5.0",
          "model_name": "FloatProgressModel",
          "state": {
            "_dom_classes": [],
            "_model_module": "@jupyter-widgets/controls",
            "_model_module_version": "1.5.0",
            "_model_name": "FloatProgressModel",
            "_view_count": null,
            "_view_module": "@jupyter-widgets/controls",
            "_view_module_version": "1.5.0",
            "_view_name": "ProgressView",
            "bar_style": "success",
            "description": "",
            "description_tooltip": null,
            "layout": "IPY_MODEL_7c287082928f41bf91da0ec36ff19b00",
            "max": 3673690696,
            "min": 0,
            "orientation": "horizontal",
            "style": "IPY_MODEL_6f668a5cb1384e53b55d29a8788611b4",
            "value": 3673690696
          }
        },
        "cbae85eddc3e4b5f8efa93d89553797b": {
          "model_module": "@jupyter-widgets/controls",
          "model_module_version": "1.5.0",
          "model_name": "HBoxModel",
          "state": {
            "_dom_classes": [],
            "_model_module": "@jupyter-widgets/controls",
            "_model_module_version": "1.5.0",
            "_model_name": "HBoxModel",
            "_view_count": null,
            "_view_module": "@jupyter-widgets/controls",
            "_view_module_version": "1.5.0",
            "_view_name": "HBoxView",
            "box_style": "",
            "children": [
              "IPY_MODEL_e6b668fb402d4ec2b7fb22f8b3b8119c",
              "IPY_MODEL_ca46fbfc80fb43ca960f58122c6a6d9a",
              "IPY_MODEL_53c4c65cf3ed4cc3986e2b4cc2644450"
            ],
            "layout": "IPY_MODEL_04f44f4343724c9895e993c3a7d8c237"
          }
        },
        "cc098d39bafb49bab834dd46d89c9bb7": {
          "model_module": "@jupyter-widgets/controls",
          "model_module_version": "1.5.0",
          "model_name": "HTMLModel",
          "state": {
            "_dom_classes": [],
            "_model_module": "@jupyter-widgets/controls",
            "_model_module_version": "1.5.0",
            "_model_name": "HTMLModel",
            "_view_count": null,
            "_view_module": "@jupyter-widgets/controls",
            "_view_module_version": "1.5.0",
            "_view_name": "HTMLView",
            "description": "",
            "description_tooltip": null,
            "layout": "IPY_MODEL_82ffd510d56f45dbb6b46b70cccefe73",
            "placeholder": "​",
            "style": "IPY_MODEL_0bb6fe226eb24d5085dbe58f43459e7e",
            "value": "tokenizer.json: "
          }
        },
        "d585757daad547cd82201e2d3badaa0d": {
          "model_module": "@jupyter-widgets/base",
          "model_module_version": "1.2.0",
          "model_name": "LayoutModel",
          "state": {
            "_model_module": "@jupyter-widgets/base",
            "_model_module_version": "1.2.0",
            "_model_name": "LayoutModel",
            "_view_count": null,
            "_view_module": "@jupyter-widgets/base",
            "_view_module_version": "1.2.0",
            "_view_name": "LayoutView",
            "align_content": null,
            "align_items": null,
            "align_self": null,
            "border": null,
            "bottom": null,
            "display": null,
            "flex": null,
            "flex_flow": null,
            "grid_area": null,
            "grid_auto_columns": null,
            "grid_auto_flow": null,
            "grid_auto_rows": null,
            "grid_column": null,
            "grid_gap": null,
            "grid_row": null,
            "grid_template_areas": null,
            "grid_template_columns": null,
            "grid_template_rows": null,
            "height": null,
            "justify_content": null,
            "justify_items": null,
            "left": null,
            "margin": null,
            "max_height": null,
            "max_width": null,
            "min_height": null,
            "min_width": null,
            "object_fit": null,
            "object_position": null,
            "order": null,
            "overflow": null,
            "overflow_x": null,
            "overflow_y": null,
            "padding": null,
            "right": null,
            "top": null,
            "visibility": null,
            "width": null
          }
        },
        "e329126332c84b0a965c2902bf9916c6": {
          "model_module": "@jupyter-widgets/base",
          "model_module_version": "1.2.0",
          "model_name": "LayoutModel",
          "state": {
            "_model_module": "@jupyter-widgets/base",
            "_model_module_version": "1.2.0",
            "_model_name": "LayoutModel",
            "_view_count": null,
            "_view_module": "@jupyter-widgets/base",
            "_view_module_version": "1.2.0",
            "_view_name": "LayoutView",
            "align_content": null,
            "align_items": null,
            "align_self": null,
            "border": null,
            "bottom": null,
            "display": null,
            "flex": null,
            "flex_flow": null,
            "grid_area": null,
            "grid_auto_columns": null,
            "grid_auto_flow": null,
            "grid_auto_rows": null,
            "grid_column": null,
            "grid_gap": null,
            "grid_row": null,
            "grid_template_areas": null,
            "grid_template_columns": null,
            "grid_template_rows": null,
            "height": null,
            "justify_content": null,
            "justify_items": null,
            "left": null,
            "margin": null,
            "max_height": null,
            "max_width": null,
            "min_height": null,
            "min_width": null,
            "object_fit": null,
            "object_position": null,
            "order": null,
            "overflow": null,
            "overflow_x": null,
            "overflow_y": null,
            "padding": null,
            "right": null,
            "top": null,
            "visibility": null,
            "width": null
          }
        },
        "e4e9be1b55e14ea6a2b9f10fa013259f": {
          "model_module": "@jupyter-widgets/controls",
          "model_module_version": "1.5.0",
          "model_name": "DescriptionStyleModel",
          "state": {
            "_model_module": "@jupyter-widgets/controls",
            "_model_module_version": "1.5.0",
            "_model_name": "DescriptionStyleModel",
            "_view_count": null,
            "_view_module": "@jupyter-widgets/base",
            "_view_module_version": "1.2.0",
            "_view_name": "StyleView",
            "description_width": ""
          }
        },
        "e6b668fb402d4ec2b7fb22f8b3b8119c": {
          "model_module": "@jupyter-widgets/controls",
          "model_module_version": "1.5.0",
          "model_name": "HTMLModel",
          "state": {
            "_dom_classes": [],
            "_model_module": "@jupyter-widgets/controls",
            "_model_module_version": "1.5.0",
            "_model_name": "HTMLModel",
            "_view_count": null,
            "_view_module": "@jupyter-widgets/controls",
            "_view_module_version": "1.5.0",
            "_view_name": "HTMLView",
            "description": "",
            "description_tooltip": null,
            "layout": "IPY_MODEL_d585757daad547cd82201e2d3badaa0d",
            "placeholder": "​",
            "style": "IPY_MODEL_8bf110c62c3c47498f506d74ea2d0872",
            "value": "model.safetensors: 100%"
          }
        },
        "e7d10d1058c545919a5a3280a430edb4": {
          "model_module": "@jupyter-widgets/controls",
          "model_module_version": "1.5.0",
          "model_name": "ProgressStyleModel",
          "state": {
            "_model_module": "@jupyter-widgets/controls",
            "_model_module_version": "1.5.0",
            "_model_name": "ProgressStyleModel",
            "_view_count": null,
            "_view_module": "@jupyter-widgets/base",
            "_view_module_version": "1.2.0",
            "_view_name": "StyleView",
            "bar_color": null,
            "description_width": ""
          }
        },
        "e88a4eb0d9204637ba217cbac1997ef5": {
          "model_module": "@jupyter-widgets/controls",
          "model_module_version": "1.5.0",
          "model_name": "DescriptionStyleModel",
          "state": {
            "_model_module": "@jupyter-widgets/controls",
            "_model_module_version": "1.5.0",
            "_model_name": "DescriptionStyleModel",
            "_view_count": null,
            "_view_module": "@jupyter-widgets/base",
            "_view_module_version": "1.2.0",
            "_view_name": "StyleView",
            "description_width": ""
          }
        },
        "eb14ce6521524bd8852c7d1033e5152f": {
          "model_module": "@jupyter-widgets/base",
          "model_module_version": "1.2.0",
          "model_name": "LayoutModel",
          "state": {
            "_model_module": "@jupyter-widgets/base",
            "_model_module_version": "1.2.0",
            "_model_name": "LayoutModel",
            "_view_count": null,
            "_view_module": "@jupyter-widgets/base",
            "_view_module_version": "1.2.0",
            "_view_name": "LayoutView",
            "align_content": null,
            "align_items": null,
            "align_self": null,
            "border": null,
            "bottom": null,
            "display": null,
            "flex": null,
            "flex_flow": null,
            "grid_area": null,
            "grid_auto_columns": null,
            "grid_auto_flow": null,
            "grid_auto_rows": null,
            "grid_column": null,
            "grid_gap": null,
            "grid_row": null,
            "grid_template_areas": null,
            "grid_template_columns": null,
            "grid_template_rows": null,
            "height": null,
            "justify_content": null,
            "justify_items": null,
            "left": null,
            "margin": null,
            "max_height": null,
            "max_width": null,
            "min_height": null,
            "min_width": null,
            "object_fit": null,
            "object_position": null,
            "order": null,
            "overflow": null,
            "overflow_x": null,
            "overflow_y": null,
            "padding": null,
            "right": null,
            "top": null,
            "visibility": null,
            "width": null
          }
        },
        "eb8ba79f30ce4bd2aebc0664805339bb": {
          "model_module": "@jupyter-widgets/base",
          "model_module_version": "1.2.0",
          "model_name": "LayoutModel",
          "state": {
            "_model_module": "@jupyter-widgets/base",
            "_model_module_version": "1.2.0",
            "_model_name": "LayoutModel",
            "_view_count": null,
            "_view_module": "@jupyter-widgets/base",
            "_view_module_version": "1.2.0",
            "_view_name": "LayoutView",
            "align_content": null,
            "align_items": null,
            "align_self": null,
            "border": null,
            "bottom": null,
            "display": null,
            "flex": null,
            "flex_flow": null,
            "grid_area": null,
            "grid_auto_columns": null,
            "grid_auto_flow": null,
            "grid_auto_rows": null,
            "grid_column": null,
            "grid_gap": null,
            "grid_row": null,
            "grid_template_areas": null,
            "grid_template_columns": null,
            "grid_template_rows": null,
            "height": null,
            "justify_content": null,
            "justify_items": null,
            "left": null,
            "margin": null,
            "max_height": null,
            "max_width": null,
            "min_height": null,
            "min_width": null,
            "object_fit": null,
            "object_position": null,
            "order": null,
            "overflow": null,
            "overflow_x": null,
            "overflow_y": null,
            "padding": null,
            "right": null,
            "top": null,
            "visibility": null,
            "width": null
          }
        },
        "eda50b0b8dfd46508fba42ef2b17cc4b": {
          "model_module": "@jupyter-widgets/controls",
          "model_module_version": "1.5.0",
          "model_name": "HTMLModel",
          "state": {
            "_dom_classes": [],
            "_model_module": "@jupyter-widgets/controls",
            "_model_module_version": "1.5.0",
            "_model_name": "HTMLModel",
            "_view_count": null,
            "_view_module": "@jupyter-widgets/controls",
            "_view_module_version": "1.5.0",
            "_view_name": "HTMLView",
            "description": "",
            "description_tooltip": null,
            "layout": "IPY_MODEL_7d32c361e72d4fa3a1c3d026a06f5418",
            "placeholder": "​",
            "style": "IPY_MODEL_11abeeba56d74474b8dec774f9a8cc73",
            "value": " 206/206 [00:00&lt;00:00, 17.5kB/s]"
          }
        },
        "f02cf0f47ad54e70beabacc0dbda28d0": {
          "model_module": "@jupyter-widgets/controls",
          "model_module_version": "1.5.0",
          "model_name": "HBoxModel",
          "state": {
            "_dom_classes": [],
            "_model_module": "@jupyter-widgets/controls",
            "_model_module_version": "1.5.0",
            "_model_name": "HBoxModel",
            "_view_count": null,
            "_view_module": "@jupyter-widgets/controls",
            "_view_module_version": "1.5.0",
            "_view_name": "HBoxView",
            "box_style": "",
            "children": [
              "IPY_MODEL_cc098d39bafb49bab834dd46d89c9bb7",
              "IPY_MODEL_6886fac566c34dc9b728ee0194121d40",
              "IPY_MODEL_b6aa5a8b74da4d29b5998e6b90a8b353"
            ],
            "layout": "IPY_MODEL_817c871077764e1bb11bf8df7a57420e"
          }
        },
        "f9d9d1c520c4470d885f7e705f42ef4a": {
          "model_module": "@jupyter-widgets/base",
          "model_module_version": "1.2.0",
          "model_name": "LayoutModel",
          "state": {
            "_model_module": "@jupyter-widgets/base",
            "_model_module_version": "1.2.0",
            "_model_name": "LayoutModel",
            "_view_count": null,
            "_view_module": "@jupyter-widgets/base",
            "_view_module_version": "1.2.0",
            "_view_name": "LayoutView",
            "align_content": null,
            "align_items": null,
            "align_self": null,
            "border": null,
            "bottom": null,
            "display": null,
            "flex": null,
            "flex_flow": null,
            "grid_area": null,
            "grid_auto_columns": null,
            "grid_auto_flow": null,
            "grid_auto_rows": null,
            "grid_column": null,
            "grid_gap": null,
            "grid_row": null,
            "grid_template_areas": null,
            "grid_template_columns": null,
            "grid_template_rows": null,
            "height": null,
            "justify_content": null,
            "justify_items": null,
            "left": null,
            "margin": null,
            "max_height": null,
            "max_width": null,
            "min_height": null,
            "min_width": null,
            "object_fit": null,
            "object_position": null,
            "order": null,
            "overflow": null,
            "overflow_x": null,
            "overflow_y": null,
            "padding": null,
            "right": null,
            "top": null,
            "visibility": null,
            "width": null
          }
        },
        "fd8b6e53e4ae42d1b93956ebe7868a8e": {
          "model_module": "@jupyter-widgets/controls",
          "model_module_version": "1.5.0",
          "model_name": "FloatProgressModel",
          "state": {
            "_dom_classes": [],
            "_model_module": "@jupyter-widgets/controls",
            "_model_module_version": "1.5.0",
            "_model_name": "FloatProgressModel",
            "_view_count": null,
            "_view_module": "@jupyter-widgets/controls",
            "_view_module_version": "1.5.0",
            "_view_name": "ProgressView",
            "bar_style": "success",
            "description": "",
            "description_tooltip": null,
            "layout": "IPY_MODEL_ab72b83696764b4099594f3c37ddb9a1",
            "max": 1,
            "min": 0,
            "orientation": "horizontal",
            "style": "IPY_MODEL_a2a128bb5f4a4affa61b892465f3d96c",
            "value": 1
          }
        }
      }
    }
  },
  "nbformat": 4,
  "nbformat_minor": 5
}
